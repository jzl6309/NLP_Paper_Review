{
 "cells": [
  {
   "cell_type": "code",
   "execution_count": 1,
   "id": "7d6f7608",
   "metadata": {},
   "outputs": [],
   "source": [
    "import pandas as pd\n",
    "\n",
    "df = pd.read_csv('final_data.csv')\n",
    "\n",
    "shakespeare_txt = ''\n",
    "with open('shakespeare.txt') as f:\n",
    "    for line in f:\n",
    "        shakespeare_txt += line\n",
    "        "
   ]
  },
  {
   "cell_type": "code",
   "execution_count": 2,
   "id": "64cb6b59",
   "metadata": {},
   "outputs": [],
   "source": [
    "import re\n",
    "import unicodedata\n",
    "import contractions\n",
    "from nltk import word_tokenize\n",
    "import numpy as np\n",
    "\n",
    "'''\n",
    "w3_lst = []\n",
    "w1_w2_lst = []\n",
    "trigram_mat = []\n",
    "'''\n",
    "\n",
    "def cleaner(text):\n",
    "    text = re.sub(r'([A-Z]+[a-z]+\\s)?[A-Z]+[a-z]+:','', text)\n",
    "    text = re.sub('-+',' ',text)\n",
    "    text = unicodedata.normalize('NFKD',text).encode('ascii','ignore').decode('utf-8')\n",
    "    text = contractions.fix(text)\n",
    "    text = text.lower()\n",
    "    text = re.sub(r'[\\r|\\n|\\r\\n]+', '\\n', text)\n",
    "    text = re.sub(r'[^a-zA-Z\\s\\.\\!\\?]', ' ', text)\n",
    "    \n",
    "    \n",
    "    text = re.sub(' +', ' ', text)\n",
    "    \n",
    "    tokens = word_tokenize(text)\n",
    "    \n",
    "    return tokens\n",
    "\n",
    "def get_ngrams(text,n):\n",
    "    ngrams = []\n",
    "    for i in range(len(text)-n):\n",
    "        ngrams.append(text[i:i+n])\n",
    "        \n",
    "    return ngrams\n"
   ]
  },
  {
   "cell_type": "code",
   "execution_count": 3,
   "id": "579501b4",
   "metadata": {},
   "outputs": [],
   "source": [
    "cleaned_text = [cleaner(i) for i in df.text]\n",
    "shakespeare = cleaner(shakespeare_txt)\n",
    "cleaned_text = [item for items in cleaned_text for item in items]\n",
    "cleaned_text = cleaned_text + shakespeare\n"
   ]
  },
  {
   "cell_type": "code",
   "execution_count": 4,
   "id": "db85a504",
   "metadata": {},
   "outputs": [],
   "source": [
    "trigrams = get_ngrams(cleaned_text,3)\n",
    "bigrams = get_ngrams(cleaned_text,2)"
   ]
  },
  {
   "cell_type": "code",
   "execution_count": 5,
   "id": "dbef0347",
   "metadata": {},
   "outputs": [],
   "source": [
    "trigram_cnt = {}\n",
    "bigram_cnt = {}\n",
    "\n",
    "for trigram in trigrams:\n",
    "    trigram = (' ').join(trigram)\n",
    "    if trigram in trigram_cnt:\n",
    "        trigram_cnt[trigram] += 1\n",
    "    else:\n",
    "        trigram_cnt[trigram] = 1\n",
    "        \n",
    "for bigram in bigrams:\n",
    "    bigram = (' ').join(bigram)\n",
    "    if bigram in bigram_cnt:\n",
    "        bigram_cnt[bigram] += 1\n",
    "    else:\n",
    "        bigram_cnt[bigram] = 1"
   ]
  },
  {
   "cell_type": "code",
   "execution_count": 6,
   "id": "1600441a",
   "metadata": {},
   "outputs": [],
   "source": [
    "vocab = len(set(cleaned_text))\n",
    "probabilities = {}\n",
    "\n",
    "for trigram, cnt in trigram_cnt.items():\n",
    "    bigram = trigram.split(' ')\n",
    "    bigram = bigram[0] + ' ' + bigram[1]\n",
    "    prob = (cnt + 1) / (bigram_cnt[bigram] + vocab)\n",
    "    if trigram not in probabilities:\n",
    "        probabilities[trigram] = prob\n",
    "    else:\n",
    "        print('oops! somethings wrong')"
   ]
  },
  {
   "cell_type": "code",
   "execution_count": 10,
   "id": "bc29ca06",
   "metadata": {},
   "outputs": [],
   "source": [
    "import random\n",
    "\n",
    "def get_random_token(matches):\n",
    "    tokens = []\n",
    "    probs = []\n",
    "    \n",
    "    for k,v in matches.items():\n",
    "        tokens.append(k)\n",
    "        probs.append(v)\n",
    "    \n",
    "    if len(tokens) > 0:\n",
    "        token = random.choices(tokens,weights=probs,k=1)\n",
    "    else: \n",
    "        token = random.choices(cleaned_text,k=1)\n",
    "    \n",
    "    return token[0].split(' ')[-1]\n",
    "    \n",
    "\n",
    "def generate_text(text, n):\n",
    "    output = []\n",
    "    clean_text = cleaner(text)\n",
    "    output = [x for x in clean_text]\n",
    "    clean_text = clean_text[-2:]\n",
    "    clean_text = (' ').join(clean_text)\n",
    "    \n",
    "    while(n != 0):\n",
    "        matches = {}\n",
    "\n",
    "        for k,v in probabilities.items():\n",
    "            bigram = (' ').join(k.split(' ')[:-1])\n",
    "            if clean_text == bigram:\n",
    "                matches[k] = v\n",
    "\n",
    "        token = get_random_token(matches)\n",
    "        output.append(token)\n",
    "        if (token == '.'): break;\n",
    "        clean_text = clean_text.split(' ')[-1:]\n",
    "        clean_text.append(token)\n",
    "        clean_text = (' ').join(clean_text)\n",
    "        \n",
    "        n -= 1\n",
    "    \n",
    "    print((' ').join(output))"
   ]
  },
  {
   "cell_type": "code",
   "execution_count": 16,
   "id": "47192cf8",
   "metadata": {},
   "outputs": [
    {
     "name": "stdout",
     "output_type": "stream",
     "text": [
      "Please enter text\n",
      "To be\n",
      "\n",
      "to be found which will carry no crotchets i will confine myself to give your grace humbly on my fellows he says the king i was anointed king is most absurdly null as regards sequence of because and most devoted of women s rheum which are continually astonishing the skeptic .\n"
     ]
    }
   ],
   "source": [
    "text = input('Please enter text\\n')\n",
    "#n = int(input('Please enter length of text (number of words to generate)'))\n",
    "print()\n",
    "generate_text(text, 100)"
   ]
  },
  {
   "cell_type": "code",
   "execution_count": null,
   "id": "628ab049",
   "metadata": {},
   "outputs": [],
   "source": []
  }
 ],
 "metadata": {
  "kernelspec": {
   "display_name": "Python 3 (ipykernel)",
   "language": "python",
   "name": "python3"
  },
  "language_info": {
   "codemirror_mode": {
    "name": "ipython",
    "version": 3
   },
   "file_extension": ".py",
   "mimetype": "text/x-python",
   "name": "python",
   "nbconvert_exporter": "python",
   "pygments_lexer": "ipython3",
   "version": "3.11.3"
  }
 },
 "nbformat": 4,
 "nbformat_minor": 5
}
