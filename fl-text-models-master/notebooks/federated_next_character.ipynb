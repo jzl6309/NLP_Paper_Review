{
 "cells": [
  {
   "cell_type": "markdown",
   "metadata": {},
   "source": [
    "# Character Level Federated Text Generation with Stack Overflow\n",
    "- Joel Stremmel\n",
    "- 01-20-20\n",
    "- Runs on Ubuntu 16.04\n",
    "\n",
    "**About:**\n",
    "\n",
    "This notebook loads the Stack Overflow data available through `tff.simulation.datasets` and trains an LSTM model with Federared Averaging by following the Federated Learning for Text Generation [example notebook](https://github.com/tensorflow/federated/blob/master/docs/tutorials/federated_learning_for_text_generation.ipynb).\n",
    "\n",
    "**Notes:**\n",
    "\n",
    "There are two modeling options within this notebook based on the tutorials listed under references:\n",
    "1. To load a pretrained RNN as in the FL example using the [Shakespeare dataset](https://www.tensorflow.org/federated/api_docs/python/tff/simulation/datasets/shakespeare).\n",
    "2. To build and train a basic LSTM model from random initialization with the architecure in the [TF text generation tutorial](https://www.tensorflow.org/tutorials/text/text_generation).\n",
    "\n",
    "\n",
    "**Data and Model References:**\n",
    "- [TFF Stack Overflow `load_data`](https://www.tensorflow.org/federated/api_docs/python/tff/simulation/datasets/stackoverflow/load_data)\n",
    "- [TFF text generation tutorial](https://github.com/tensorflow/federated/blob/master/docs/tutorials/federated_learning_for_text_generation.ipynb)\n",
    "- [TFF git](https://github.com/tensorflow/federated/)\n",
    "- [Tensorflow text generation tutorial](https://www.tensorflow.org/tutorials/text/text_generation)\n",
    "\n",
    "**Environment Setup References:**\n",
    "- [Installing Tensorflow for GPU](https://www.tensorflow.org/install/gpu)\n",
    "- [Install CUDA 10.0 and cuDNN v7.4.2 on Ubuntu 16.04](https://gist.github.com/matheustguimaraes/43e0b65aa534db4df2918f835b9b361d)\n",
    "- [Tensorflow build configs](https://www.tensorflow.org/install/source#tested_build_configurations)\n",
    "- [Using jupyter notebooks with a virtual environment](https://anbasile.github.io/programming/2017/06/25/jupyter-venv/)"
   ]
  },
  {
   "cell_type": "markdown",
   "metadata": {},
   "source": [
    "### Imports"
   ]
  },
  {
   "cell_type": "code",
   "execution_count": 2,
   "metadata": {},
   "outputs": [],
   "source": [
    "import nest_asyncio\n",
    "nest_asyncio.apply()"
   ]
  },
  {
   "cell_type": "code",
   "execution_count": 3,
   "metadata": {},
   "outputs": [],
   "source": [
    "import collections\n",
    "import functools\n",
    "import os\n",
    "import six\n",
    "import time\n",
    "import string\n",
    "\n",
    "import numpy as np\n",
    "import matplotlib.pyplot as plt\n",
    "\n",
    "import tensorflow as tf\n",
    "import tensorflow.keras.backend as K\n",
    "import tensorflow_federated as tff"
   ]
  },
  {
   "cell_type": "markdown",
   "metadata": {},
   "source": [
    "### Set Compatability Behavior"
   ]
  },
  {
   "cell_type": "code",
   "execution_count": 4,
   "metadata": {},
   "outputs": [],
   "source": [
    "tf.compat.v1.enable_v2_behavior()"
   ]
  },
  {
   "cell_type": "markdown",
   "metadata": {},
   "source": [
    "### Check Tensorflow Install"
   ]
  },
  {
   "cell_type": "code",
   "execution_count": 5,
   "metadata": {},
   "outputs": [
    {
     "name": "stdout",
     "output_type": "stream",
     "text": [
      "Built with Cuda: True\n",
      "Build with GPU support: True\n",
      "Num GPUs Available:  1\n"
     ]
    }
   ],
   "source": [
    "print('Built with Cuda: {}'.format(tf.test.is_built_with_cuda()))\n",
    "print('Build with GPU support: {}'.format(tf.test.is_built_with_gpu_support()))\n",
    "print(\"Num GPUs Available: \", len(tf.config.experimental.list_physical_devices('GPU')))"
   ]
  },
  {
   "cell_type": "markdown",
   "metadata": {},
   "source": [
    "### Set Tensorflow to Use GPU"
   ]
  },
  {
   "cell_type": "code",
   "execution_count": 6,
   "metadata": {},
   "outputs": [
    {
     "name": "stdout",
     "output_type": "stream",
     "text": [
      "PhysicalDevice(name='/physical_device:CPU:0', device_type='CPU')\n",
      "PhysicalDevice(name='/physical_device:XLA_CPU:0', device_type='XLA_CPU')\n",
      "PhysicalDevice(name='/physical_device:XLA_GPU:0', device_type='XLA_GPU')\n",
      "PhysicalDevice(name='/physical_device:GPU:0', device_type='GPU')\n"
     ]
    }
   ],
   "source": [
    "physical_devices = tf.config.experimental.list_physical_devices(device_type=None)\n",
    "tf.config.experimental.set_memory_growth(physical_devices[-1], enable=True)\n",
    "for device in physical_devices:\n",
    "    print(device)"
   ]
  },
  {
   "cell_type": "markdown",
   "metadata": {},
   "source": [
    "### Test TFF"
   ]
  },
  {
   "cell_type": "code",
   "execution_count": 7,
   "metadata": {},
   "outputs": [
    {
     "data": {
      "text/plain": [
       "'Hello, World!'"
      ]
     },
     "execution_count": 7,
     "metadata": {},
     "output_type": "execute_result"
    }
   ],
   "source": [
    "tff.federated_computation(lambda: 'Hello, World!')()"
   ]
  },
  {
   "cell_type": "markdown",
   "metadata": {},
   "source": [
    "### Set Some Parameters for Preprocessing the Data and Training the Model\n",
    "**Note:** Ask Keith how he's been setting there for internal experiments."
   ]
  },
  {
   "cell_type": "code",
   "execution_count": 8,
   "metadata": {},
   "outputs": [],
   "source": [
    "SEQ_LENGTH = 100\n",
    "BATCH_SIZE = 16\n",
    "BUFFER_SIZE = 5000\n",
    "\n",
    "NUM_TRAIN_CLIENTS = 20\n",
    "NUM_VAL_CLIENTS = 20\n",
    "NUM_TEST_CLIENTS = 10\n",
    "\n",
    "NUM_ROUNDS = 50\n",
    "MODEL_TYPE = 'LSTM'"
   ]
  },
  {
   "cell_type": "markdown",
   "metadata": {},
   "source": [
    "### Load Stack Overflow Data"
   ]
  },
  {
   "cell_type": "code",
   "execution_count": 9,
   "metadata": {},
   "outputs": [
    {
     "name": "stderr",
     "output_type": "stream",
     "text": [
      "/home/joel_stremmel/anaconda3/envs/tff/lib/python3.7/site-packages/tensorflow_federated/python/simulation/hdf5_client_data.py:69: H5pyDeprecationWarning: dataset.value has been deprecated. Use dataset[()] instead.\n",
      "  collections.OrderedDict((name, ds.value) for name, ds in sorted(\n"
     ]
    }
   ],
   "source": [
    "train_data, val_data, test_data = tff.simulation.datasets.stackoverflow.load_data(cache_dir='~/data')"
   ]
  },
  {
   "cell_type": "code",
   "execution_count": 10,
   "metadata": {},
   "outputs": [
    {
     "data": {
      "text/plain": [
       "<tensorflow_federated.python.simulation.hdf5_client_data.HDF5ClientData at 0x7f47fddc6b10>"
      ]
     },
     "execution_count": 10,
     "metadata": {},
     "output_type": "execute_result"
    }
   ],
   "source": [
    "train_data"
   ]
  },
  {
   "cell_type": "code",
   "execution_count": 11,
   "metadata": {},
   "outputs": [
    {
     "data": {
      "text/plain": [
       "<tensorflow_federated.python.simulation.hdf5_client_data.HDF5ClientData at 0x7f476d9d88d0>"
      ]
     },
     "execution_count": 11,
     "metadata": {},
     "output_type": "execute_result"
    }
   ],
   "source": [
    "val_data"
   ]
  },
  {
   "cell_type": "code",
   "execution_count": 12,
   "metadata": {},
   "outputs": [
    {
     "data": {
      "text/plain": [
       "<tensorflow_federated.python.simulation.hdf5_client_data.HDF5ClientData at 0x7f47140d8390>"
      ]
     },
     "execution_count": 12,
     "metadata": {},
     "output_type": "execute_result"
    }
   ],
   "source": [
    "test_data"
   ]
  },
  {
   "cell_type": "markdown",
   "metadata": {},
   "source": [
    "### View Some Sample Client Records"
   ]
  },
  {
   "cell_type": "code",
   "execution_count": 13,
   "metadata": {},
   "outputs": [
    {
     "name": "stdout",
     "output_type": "stream",
     "text": [
      "\n",
      "Key: creation_date\n",
      "tf.Tensor(b'2008-12-22 14:45:37.037 UTC', shape=(), dtype=string)\n",
      "\n",
      "Key: score\n",
      "tf.Tensor(11, shape=(), dtype=int64)\n",
      "\n",
      "Key: tags\n",
      "tf.Tensor(b'sql-server|indexing', shape=(), dtype=string)\n",
      "\n",
      "Key: title\n",
      "tf.Tensor(b'what fields should be indexed on a given table ?', shape=(), dtype=string)\n",
      "\n",
      "Key: tokens\n",
      "tf.Tensor(b'the sql server 2008 management studio query tool , if you turn on \" include actual execution plan \" , will tell you what indexes a given query needs to run fast .', shape=(), dtype=string)\n",
      "\n",
      "Key: type\n",
      "tf.Tensor(b'answer', shape=(), dtype=string)\n",
      "\n",
      "Key: creation_date\n",
      "tf.Tensor(b'2008-12-22 14:45:37.037 UTC', shape=(), dtype=string)\n",
      "\n",
      "Key: score\n",
      "tf.Tensor(11, shape=(), dtype=int64)\n",
      "\n",
      "Key: tags\n",
      "tf.Tensor(b'sql-server|indexing', shape=(), dtype=string)\n",
      "\n",
      "Key: title\n",
      "tf.Tensor(b'what fields should be indexed on a given table ?', shape=(), dtype=string)\n",
      "\n",
      "Key: tokens\n",
      "tf.Tensor(b\"( assuming there's an obvious missing index that is making the query run unusually slow , that is . )\", shape=(), dtype=string)\n",
      "\n",
      "Key: type\n",
      "tf.Tensor(b'answer', shape=(), dtype=string)\n"
     ]
    },
    {
     "name": "stderr",
     "output_type": "stream",
     "text": [
      "/home/joel_stremmel/anaconda3/envs/tff/lib/python3.7/site-packages/tensorflow_federated/python/simulation/hdf5_client_data.py:69: H5pyDeprecationWarning: dataset.value has been deprecated. Use dataset[()] instead.\n",
      "  collections.OrderedDict((name, ds.value) for name, ds in sorted(\n"
     ]
    }
   ],
   "source": [
    "raw_example_dataset = train_data.create_tf_dataset_for_client('00000001')\n",
    "for record in raw_example_dataset.take(2):\n",
    "    for key in record:\n",
    "        print('\\nKey: {}'.format(key))\n",
    "        print(record[key])"
   ]
  },
  {
   "cell_type": "markdown",
   "metadata": {},
   "source": [
    "### Count Number of Clients"
   ]
  },
  {
   "cell_type": "code",
   "execution_count": 15,
   "metadata": {},
   "outputs": [
    {
     "name": "stdout",
     "output_type": "stream",
     "text": [
      "342477 train clients.\n",
      "38758 val clients.\n",
      "204088 test clients.\n"
     ]
    }
   ],
   "source": [
    "print('{} train clients.'.format(len(train_data.client_ids)))\n",
    "print('{} val clients.'.format(len(val_data.client_ids)))\n",
    "print('{} test clients.'.format(len(test_data.client_ids)))"
   ]
  },
  {
   "cell_type": "markdown",
   "metadata": {},
   "source": [
    "### Set Vocabulary\n",
    "- Currently using the fixed vocabularly of ASCII chars that occur in the works of Shakespeare and Dickens\n",
    "- **Is there a good way to get the distinct characters from a TF dataset?**"
   ]
  },
  {
   "cell_type": "code",
   "execution_count": 16,
   "metadata": {},
   "outputs": [],
   "source": [
    "vocab = list('dhlptx@DHLPTX $(,048cgkoswCGKOSW[_#\\'/37;?bfjnrvzBFJNRVZ\"&*.26:\\naeimquyAEIMQUY]!%)-159\\r')\n",
    "vocab_size = len(vocab)"
   ]
  },
  {
   "cell_type": "markdown",
   "metadata": {},
   "source": [
    "### Creating a Mapping from Unique Characters to Indices"
   ]
  },
  {
   "cell_type": "code",
   "execution_count": 17,
   "metadata": {},
   "outputs": [],
   "source": [
    "char2idx = {u:i for i, u in enumerate(vocab)}\n",
    "idx2char = np.array(vocab)"
   ]
  },
  {
   "cell_type": "markdown",
   "metadata": {},
   "source": [
    "### Load a Pre-Trained Model\n",
    "Text generation requires a batch_size=1 model."
   ]
  },
  {
   "cell_type": "code",
   "execution_count": 18,
   "metadata": {},
   "outputs": [],
   "source": [
    "def load_pretrained_model(batch_size):\n",
    "    \"\"\"\n",
    "    Load a pretrained model from the Google RNNs trained on Dickens\n",
    "    based on the desired batch size.\n",
    "    \"\"\"\n",
    "    \n",
    "    urls = {\n",
    "        1: 'https://storage.googleapis.com/tff-models-public/dickens_rnn.batch1.kerasmodel',\n",
    "        8: 'https://storage.googleapis.com/tff-models-public/dickens_rnn.batch8.kerasmodel'}\n",
    "    \n",
    "    assert batch_size in urls, 'batch_size must be in ' + str(urls.keys())\n",
    "    \n",
    "    url = urls[batch_size]\n",
    "    local_file = tf.keras.utils.get_file(os.path.basename(url), origin=url)  \n",
    "    \n",
    "    return tf.keras.models.load_model(local_file, compile=False)"
   ]
  },
  {
   "cell_type": "markdown",
   "metadata": {},
   "source": [
    "### Build and Train an LSTM from Random Initialization"
   ]
  },
  {
   "cell_type": "code",
   "execution_count": 19,
   "metadata": {},
   "outputs": [],
   "source": [
    "def build_model(batch_size, vocab_size, seq_length, embedding_dim=256, rnn_units=512):\n",
    "    \"\"\"\n",
    "    Build model with architecture from: https://www.tensorflow.org/tutorials/text/text_generation.\n",
    "    \"\"\"\n",
    "\n",
    "    model1_input = tf.keras.Input(shape=(seq_length, ),\n",
    "                                  name='model1_input')\n",
    "    \n",
    "    model1_embedding = tf.keras.layers.Embedding(input_dim=vocab_size,\n",
    "                                                 output_dim=embedding_dim,\n",
    "                                                 input_length=seq_length,\n",
    "                                                 batch_input_shape=[batch_size, None],\n",
    "                                                 name='model1_embedding')(model1_input)\n",
    "    \n",
    "    model1_lstm = tf.keras.layers.LSTM(units=rnn_units,\n",
    "                                       return_sequences=True,\n",
    "                                       recurrent_initializer='glorot_uniform',\n",
    "                                       name='model1_lstm')(model1_embedding)\n",
    "    \n",
    "    model1_dense = tf.keras.layers.Dense(units=vocab_size)(model1_lstm)\n",
    "    \n",
    "    final_model = tf.keras.Model(inputs=model1_input, outputs=model1_dense)\n",
    "                 \n",
    "    return final_model"
   ]
  },
  {
   "cell_type": "markdown",
   "metadata": {},
   "source": [
    "### Define the Text Generation Strategy"
   ]
  },
  {
   "cell_type": "code",
   "execution_count": 20,
   "metadata": {},
   "outputs": [],
   "source": [
    "def generate_text(model, start_string):\n",
    "    \"\"\"\n",
    "    Generate text by sampling from the model output distribution\n",
    "    as in From https://www.tensorflow.org/tutorials/sequences/text_generation.\n",
    "    \"\"\"\n",
    "\n",
    "    num_generate = 200\n",
    "    input_eval = [char2idx[s] for s in start_string]\n",
    "    input_eval = tf.expand_dims(input_eval, 0)\n",
    "    text_generated = []\n",
    "    temperature = 1.0\n",
    "\n",
    "    model.reset_states()\n",
    "    for i in range(num_generate):\n",
    "        predictions = model(input_eval)\n",
    "        predictions = tf.squeeze(predictions, 0)\n",
    "        predictions = predictions / temperature\n",
    "        predicted_id = tf.random.categorical(predictions, num_samples=1)[-1, 0].numpy()\n",
    "        input_eval = tf.expand_dims([predicted_id], 0)\n",
    "        text_generated.append(idx2char[predicted_id])\n",
    "\n",
    "    return (start_string + ''.join(text_generated))"
   ]
  },
  {
   "cell_type": "markdown",
   "metadata": {},
   "source": [
    "### Load or Build the Model\n",
    "Text generation requires a batch_size=1 model."
   ]
  },
  {
   "cell_type": "code",
   "execution_count": 21,
   "metadata": {},
   "outputs": [],
   "source": [
    "def get_model(model_type, batch_size, vocab_size, seq_length):\n",
    "    \"\"\"\n",
    "    Return model of type 'Pretrained' or 'LSTM'. \n",
    "    \"\"\"\n",
    "    \n",
    "    if model_type == 'Pretrained':\n",
    "        model = load_pretrained_model(batch_size=batch_size)\n",
    "        \n",
    "    elif model_type == 'LSTM':\n",
    "        model = build_model(batch_size=batch_size,\n",
    "                            vocab_size=vocab_size,\n",
    "                            seq_length=seq_length)\n",
    "\n",
    "    else:\n",
    "        raise ValueError(\"Model type should be one of 'Pretrained' or LSTM.'\")\n",
    "    \n",
    "    return model"
   ]
  },
  {
   "cell_type": "code",
   "execution_count": 22,
   "metadata": {
    "scrolled": true
   },
   "outputs": [],
   "source": [
    "keras_model_batch1 = get_model(model_type=MODEL_TYPE,\n",
    "                               batch_size=1,\n",
    "                               vocab_size=vocab_size,\n",
    "                               seq_length=SEQ_LENGTH)"
   ]
  },
  {
   "cell_type": "code",
   "execution_count": 23,
   "metadata": {},
   "outputs": [
    {
     "name": "stdout",
     "output_type": "stream",
     "text": [
      "How's the water today? @U\n",
      "_E(L/'Y3X%8$kyw?c';8T'FR'q6G; fCsbm6fAcpAnE#is[b/zq];/J,v(q9]#\"lVNmtdb'Bx%J H*[ZdYER\"K5lN6K32I;%tADKTum/M]0\n",
      "dtT.pY9aZ5Y53H]0xQHaT/!pFBe6VK3jd65FXk.lfTEK&-.mHod,RRca/6VK*FP(!zYEQFf0$KRvRbbQ_Wj%t(7Jx\n"
     ]
    }
   ],
   "source": [
    "print(generate_text(keras_model_batch1, \"How's the water today? \"))"
   ]
  },
  {
   "cell_type": "markdown",
   "metadata": {},
   "source": [
    "### Define Functions to Preprocess Federated Stack Overflow\n",
    "- Using a namedtuple with keys x and y as the output type of the dataset keeps both TFF and Keras happy.\n",
    "- Construct a lookup table to map string chars to indexes, using the vocab loaded above.\n",
    "- Write functions for:\n",
    "    - ID lookup\n",
    "    - Splitting inputs and targets\n",
    "    - Applying preprocessing steps to dataset\n",
    "    - Taking clients and client records and applying preprocessing"
   ]
  },
  {
   "cell_type": "code",
   "execution_count": 24,
   "metadata": {},
   "outputs": [],
   "source": [
    "BatchType = collections.namedtuple('BatchType', ['x', 'y'])"
   ]
  },
  {
   "cell_type": "code",
   "execution_count": 25,
   "metadata": {},
   "outputs": [],
   "source": [
    "table = tf.lookup.StaticHashTable(\n",
    "    tf.lookup.KeyValueTensorInitializer(\n",
    "        keys=vocab,\n",
    "        values=tf.constant(list(range(vocab_size)),\n",
    "        dtype=tf.int64)),\n",
    "    default_value=0)"
   ]
  },
  {
   "cell_type": "code",
   "execution_count": 26,
   "metadata": {},
   "outputs": [],
   "source": [
    "def to_ids(x):\n",
    "    \n",
    "    s = tf.reshape(x['tokens'], shape=[1])\n",
    "    chars = tf.strings.bytes_split(s).values\n",
    "    ids = table.lookup(chars)\n",
    "    \n",
    "    return ids"
   ]
  },
  {
   "cell_type": "code",
   "execution_count": 27,
   "metadata": {},
   "outputs": [],
   "source": [
    "def split_input_target(chunk):\n",
    "    \n",
    "    input_text = tf.map_fn(lambda x: x[:-1], chunk)\n",
    "    target_text = tf.map_fn(lambda x: x[1:], chunk)\n",
    "    \n",
    "    return BatchType(input_text, target_text)"
   ]
  },
  {
   "cell_type": "code",
   "execution_count": 28,
   "metadata": {},
   "outputs": [],
   "source": [
    "def preprocess(dataset):\n",
    "    \n",
    "    return (\n",
    "        # Map ASCII chars to int64 indexes using the vocab\n",
    "        dataset.map(to_ids)\n",
    "        # Split into individual chars\n",
    "        .unbatch()\n",
    "        # Form example sequences of SEQ_LENGTH +1\n",
    "        .batch(SEQ_LENGTH + 1, drop_remainder=True)\n",
    "        # Shuffle and form minibatches\n",
    "        .shuffle(BUFFER_SIZE).batch(BATCH_SIZE, drop_remainder=True)\n",
    "        # And finally split into (input, target) tuples,\n",
    "        # each of length SEQ_LENGTH.\n",
    "        .map(split_input_target))"
   ]
  },
  {
   "cell_type": "code",
   "execution_count": 29,
   "metadata": {},
   "outputs": [],
   "source": [
    "def preprocess_data_for_client(client, data_source):\n",
    "    \n",
    "    return preprocess(data_source.create_tf_dataset_for_client(client))"
   ]
  },
  {
   "cell_type": "markdown",
   "metadata": {},
   "source": [
    "### Get Sample Clients for Validation and Testing\n",
    "Note that the train clients will be sampled within the training loop."
   ]
  },
  {
   "cell_type": "code",
   "execution_count": 30,
   "metadata": {},
   "outputs": [],
   "source": [
    "def get_sample_clients(dataset, num_clients):\n",
    "    \n",
    "    random_indices = np.random.choice(len(dataset.client_ids), size=num_clients, replace=False)\n",
    "    \n",
    "    return np.array(dataset.client_ids)[random_indices]"
   ]
  },
  {
   "cell_type": "code",
   "execution_count": 31,
   "metadata": {},
   "outputs": [],
   "source": [
    "val_clients = get_sample_clients(val_data, num_clients=NUM_VAL_CLIENTS)\n",
    "test_clients = get_sample_clients(test_data, num_clients=NUM_TEST_CLIENTS)"
   ]
  },
  {
   "cell_type": "markdown",
   "metadata": {},
   "source": [
    "### Build and Preprocess the Validation and Test Datasets\n",
    "Concatenate the validation and test datasets for evaluation with Keras."
   ]
  },
  {
   "cell_type": "code",
   "execution_count": 33,
   "metadata": {},
   "outputs": [
    {
     "name": "stderr",
     "output_type": "stream",
     "text": [
      "/home/joel_stremmel/anaconda3/envs/tff/lib/python3.7/site-packages/tensorflow_federated/python/simulation/hdf5_client_data.py:69: H5pyDeprecationWarning: dataset.value has been deprecated. Use dataset[()] instead.\n",
      "  collections.OrderedDict((name, ds.value) for name, ds in sorted(\n"
     ]
    }
   ],
   "source": [
    "val_dataset = functools.reduce(lambda d1, d2: d1.concatenate(d2), \n",
    "                               [preprocess_data_for_client(client, val_data) for client in val_clients])\n",
    "\n",
    "test_dataset = functools.reduce(lambda d1, d2: d1.concatenate(d2), \n",
    "                                [preprocess_data_for_client(client, test_data) for client in test_clients])"
   ]
  },
  {
   "cell_type": "markdown",
   "metadata": {},
   "source": [
    "### Define Lists to Track Loss and Accuracy at Each Training Round"
   ]
  },
  {
   "cell_type": "code",
   "execution_count": 36,
   "metadata": {},
   "outputs": [],
   "source": [
    "train_loss = []\n",
    "train_accuracy = []\n",
    "val_loss = []\n",
    "val_accuracy = []"
   ]
  },
  {
   "cell_type": "markdown",
   "metadata": {},
   "source": [
    "### Define the Evaluation Function to Use During Training"
   ]
  },
  {
   "cell_type": "code",
   "execution_count": 37,
   "metadata": {},
   "outputs": [],
   "source": [
    "def keras_evaluate(keras_model, state, val_dataset):\n",
    "    \n",
    "    tff.learning.assign_weights_to_keras_model(keras_model, state.model)\n",
    "    loss, accuracy = keras_model.evaluate(val_dataset, steps=2)\n",
    "    \n",
    "    val_loss.append(loss)\n",
    "    val_accuracy.append(accuracy)"
   ]
  },
  {
   "cell_type": "markdown",
   "metadata": {},
   "source": [
    "### Define Loss Function and Metrics"
   ]
  },
  {
   "cell_type": "code",
   "execution_count": 38,
   "metadata": {},
   "outputs": [],
   "source": [
    "class FlattenedCategoricalAccuracy(tf.keras.metrics.SparseCategoricalAccuracy):\n",
    "\n",
    "    def __init__(self, name='accuracy', dtype=None):\n",
    "        super(FlattenedCategoricalAccuracy, self).__init__(name, dtype=dtype)\n",
    "\n",
    "    def update_state(self, y_true, y_pred, sample_weight=None):\n",
    "        \n",
    "        y_true = tf.reshape(y_true, [-1, 1])\n",
    "        y_pred = tf.reshape(y_pred, [-1, vocab_size, 1])\n",
    "        \n",
    "        return super(FlattenedCategoricalAccuracy, self).update_state(y_true, y_pred, sample_weight)"
   ]
  },
  {
   "cell_type": "code",
   "execution_count": 39,
   "metadata": {},
   "outputs": [],
   "source": [
    "def compile(keras_model):\n",
    "    \n",
    "    keras_model.compile(\n",
    "        optimizer=tf.keras.optimizers.Adam(),\n",
    "        loss=tf.keras.losses.SparseCategoricalCrossentropy(from_logits=True),\n",
    "        metrics=[FlattenedCategoricalAccuracy()]\n",
    "    )\n",
    "    \n",
    "    return keras_model"
   ]
  },
  {
   "cell_type": "markdown",
   "metadata": {},
   "source": [
    "### Load and Compile the Model\n",
    "The keras model will be accessed as a global variable to create a copy to be called by TFF and will be updated within the training loop to follow."
   ]
  },
  {
   "cell_type": "code",
   "execution_count": 40,
   "metadata": {},
   "outputs": [
    {
     "data": {
      "text/plain": [
       "<tensorflow.python.keras.engine.training.Model at 0x7f46570bd4d0>"
      ]
     },
     "execution_count": 40,
     "metadata": {},
     "output_type": "execute_result"
    }
   ],
   "source": [
    "keras_model = get_model(model_type=MODEL_TYPE,\n",
    "                        batch_size=BATCH_SIZE,\n",
    "                        vocab_size=vocab_size,\n",
    "                        seq_length=SEQ_LENGTH)\n",
    "compile(keras_model)"
   ]
  },
  {
   "cell_type": "code",
   "execution_count": 41,
   "metadata": {},
   "outputs": [
    {
     "name": "stdout",
     "output_type": "stream",
     "text": [
      "Model: \"model_1\"\n",
      "_________________________________________________________________\n",
      "Layer (type)                 Output Shape              Param #   \n",
      "=================================================================\n",
      "model1_input (InputLayer)    [(None, 100)]             0         \n",
      "_________________________________________________________________\n",
      "model1_embedding (Embedding) (None, 100, 256)          22016     \n",
      "_________________________________________________________________\n",
      "model1_lstm (LSTM)           (None, 100, 512)          1574912   \n",
      "_________________________________________________________________\n",
      "dense_1 (Dense)              (None, 100, 86)           44118     \n",
      "=================================================================\n",
      "Total params: 1,641,046\n",
      "Trainable params: 1,641,046\n",
      "Non-trainable params: 0\n",
      "_________________________________________________________________\n"
     ]
    }
   ],
   "source": [
    "keras_model.summary()"
   ]
  },
  {
   "cell_type": "markdown",
   "metadata": {},
   "source": [
    "### Create TFF Version of the Model to be Trained with Federated Averaging\n",
    "- Clone the keras_model inside `create_tff_model()`, which TFF will call to produce a new copy of the model inside the graph that it will serialize.\n",
    "- TFF uses a `dummy_batch` so it knows the types and shapes that your model expects.\n",
    "- Build and serialize the Tensorflow graph with `build_federated_averaging_process`."
   ]
  },
  {
   "cell_type": "code",
   "execution_count": 42,
   "metadata": {},
   "outputs": [],
   "source": [
    "def create_tff_model():\n",
    "    \n",
    "    x = tf.constant(np.random.randint(1, vocab_size, size=[BATCH_SIZE, SEQ_LENGTH]))\n",
    "    dummy_batch = collections.OrderedDict([('x', x), ('y', x)]) \n",
    "    keras_model_clone = compile(tf.keras.models.clone_model(keras_model))\n",
    "    \n",
    "    return tff.learning.from_compiled_keras_model(keras_model_clone, dummy_batch=dummy_batch)"
   ]
  },
  {
   "cell_type": "code",
   "execution_count": 43,
   "metadata": {},
   "outputs": [
    {
     "name": "stdout",
     "output_type": "stream",
     "text": [
      "WARNING:tensorflow:From /home/joel_stremmel/anaconda3/envs/tff/lib/python3.7/site-packages/tensorflow_core/python/ops/resource_variable_ops.py:1630: calling BaseResourceVariable.__init__ (from tensorflow.python.ops.resource_variable_ops) with constraint is deprecated and will be removed in a future version.\n",
      "Instructions for updating:\n",
      "If using Keras pass *_constraint arguments to layers.\n"
     ]
    }
   ],
   "source": [
    "fed_avg = tff.learning.build_federated_averaging_process(model_fn=create_tff_model)"
   ]
  },
  {
   "cell_type": "markdown",
   "metadata": {},
   "source": [
    "### Initialize the Federated Averaging Process and the Starting Model State"
   ]
  },
  {
   "cell_type": "code",
   "execution_count": 44,
   "metadata": {},
   "outputs": [],
   "source": [
    "# NOTE: If the statement below fails, it means that you are\n",
    "# using an older version of TFF without the high-performance\n",
    "# executor stack. Call `tff.framework.set_default_executor()`\n",
    "# instead to use the default reference runtime.\n",
    "if six.PY3:\n",
    "    tff.framework.set_default_executor(tff.framework.local_executor_factory())"
   ]
  },
  {
   "cell_type": "code",
   "execution_count": 45,
   "metadata": {},
   "outputs": [],
   "source": [
    "# The state of the FL server, containing the model and optimization state.\n",
    "state = fed_avg.initialize()\n",
    "\n",
    "state = tff.learning.state_with_new_model_weights(\n",
    "    state,\n",
    "    trainable_weights=[v.numpy() for v in keras_model.trainable_weights],\n",
    "    non_trainable_weights=[v.numpy() for v in keras_model.non_trainable_weights]\n",
    ")"
   ]
  },
  {
   "cell_type": "code",
   "execution_count": 46,
   "metadata": {},
   "outputs": [
    {
     "name": "stderr",
     "output_type": "stream",
     "text": [
      "/home/joel_stremmel/anaconda3/envs/tff/lib/python3.7/site-packages/tensorflow_federated/python/simulation/hdf5_client_data.py:69: H5pyDeprecationWarning: dataset.value has been deprecated. Use dataset[()] instead.\n",
      "  collections.OrderedDict((name, ds.value) for name, ds in sorted(\n"
     ]
    }
   ],
   "source": [
    "train_clients = get_sample_clients(train_data, num_clients=NUM_TRAIN_CLIENTS)\n",
    "train_datasets = [preprocess_data_for_client(client, train_data) for client in train_clients]"
   ]
  },
  {
   "cell_type": "markdown",
   "metadata": {},
   "source": [
    "### Train Model Across Many Randomly Sampled Clients with Federated Averaging"
   ]
  },
  {
   "cell_type": "code",
   "execution_count": 39,
   "metadata": {
    "scrolled": false
   },
   "outputs": [
    {
     "name": "stdout",
     "output_type": "stream",
     "text": [
      "Evaluating before training round #0 on 20 clients.\n",
      "2/2 [==============================] - 1s 261ms/step - loss: 4.4544 - accuracy: 0.0091\n",
      "Sampling 20 new clients.\n"
     ]
    },
    {
     "name": "stderr",
     "output_type": "stream",
     "text": [
      "/home/joel_stremmel/anaconda3/envs/tff/lib/python3.7/site-packages/tensorflow_federated/python/simulation/hdf5_client_data.py:69: H5pyDeprecationWarning: dataset.value has been deprecated. Use dataset[()] instead.\n",
      "  collections.OrderedDict((name, ds.value) for name, ds in sorted(\n"
     ]
    },
    {
     "name": "stdout",
     "output_type": "stream",
     "text": [
      "Applying federated training round.\n",
      "Training metrics - loss: 3.0550; accuracy: 0.2212\n",
      "Evaluating before training round #1 on 20 clients.\n",
      "2/2 [==============================] - 0s 91ms/step - loss: 2.6629 - accuracy: 0.2375\n",
      "Sampling 20 new clients.\n",
      "Applying federated training round.\n",
      "Training metrics - loss: 2.6136; accuracy: 0.2716\n",
      "Evaluating before training round #2 on 20 clients.\n",
      "2/2 [==============================] - 0s 89ms/step - loss: 2.4222 - accuracy: 0.3175\n",
      "Sampling 20 new clients.\n",
      "Applying federated training round.\n",
      "Training metrics - loss: 2.4671; accuracy: 0.3023\n",
      "Evaluating before training round #3 on 20 clients.\n",
      "2/2 [==============================] - 0s 89ms/step - loss: 2.3499 - accuracy: 0.3272\n",
      "Sampling 20 new clients.\n",
      "Applying federated training round.\n",
      "Training metrics - loss: 2.3953; accuracy: 0.3153\n",
      "Evaluating before training round #4 on 20 clients.\n",
      "2/2 [==============================] - 0s 88ms/step - loss: 2.2700 - accuracy: 0.3544\n",
      "Sampling 20 new clients.\n",
      "Applying federated training round.\n",
      "Training metrics - loss: 2.3198; accuracy: 0.3364\n",
      "Evaluating before training round #5 on 20 clients.\n",
      "2/2 [==============================] - 0s 91ms/step - loss: 2.2597 - accuracy: 0.3522\n",
      "Sampling 20 new clients.\n",
      "Applying federated training round.\n",
      "Training metrics - loss: 2.2675; accuracy: 0.3472\n",
      "Evaluating before training round #6 on 20 clients.\n",
      "2/2 [==============================] - 0s 95ms/step - loss: 2.2040 - accuracy: 0.3750\n",
      "Sampling 20 new clients.\n",
      "Applying federated training round.\n",
      "Training metrics - loss: 2.2394; accuracy: 0.3555\n",
      "Evaluating before training round #7 on 20 clients.\n",
      "2/2 [==============================] - 0s 87ms/step - loss: 2.2228 - accuracy: 0.3638\n",
      "Sampling 20 new clients.\n",
      "Applying federated training round.\n",
      "Training metrics - loss: 2.1882; accuracy: 0.3703\n",
      "Evaluating before training round #8 on 20 clients.\n",
      "2/2 [==============================] - 0s 88ms/step - loss: 2.1287 - accuracy: 0.3903\n",
      "Sampling 20 new clients.\n",
      "Applying federated training round.\n",
      "Training metrics - loss: 1.7222; accuracy: 0.4992\n",
      "Evaluating before training round #9 on 20 clients.\n",
      "2/2 [==============================] - 0s 95ms/step - loss: 1.7203 - accuracy: 0.4984\n",
      "Sampling 20 new clients.\n",
      "Applying federated training round.\n",
      "Training metrics - loss: 1.6246; accuracy: 0.5381\n",
      "Evaluating before training round #10 on 20 clients.\n",
      "2/2 [==============================] - 0s 90ms/step - loss: 1.6139 - accuracy: 0.5319\n",
      "Sampling 20 new clients.\n",
      "Applying federated training round.\n",
      "Training metrics - loss: 1.5986; accuracy: 0.5453\n",
      "Evaluating before training round #11 on 20 clients.\n",
      "2/2 [==============================] - 0s 90ms/step - loss: 1.6508 - accuracy: 0.5300\n",
      "Sampling 20 new clients.\n",
      "Applying federated training round.\n",
      "Training metrics - loss: 1.5458; accuracy: 0.5604\n",
      "Evaluating before training round #12 on 20 clients.\n",
      "2/2 [==============================] - 0s 87ms/step - loss: 1.6454 - accuracy: 0.5266\n",
      "Sampling 20 new clients.\n",
      "Applying federated training round.\n",
      "Training metrics - loss: 1.5487; accuracy: 0.5564\n",
      "Evaluating before training round #13 on 20 clients.\n",
      "2/2 [==============================] - 0s 88ms/step - loss: 1.6172 - accuracy: 0.5350\n",
      "Sampling 20 new clients.\n",
      "Applying federated training round.\n",
      "Training metrics - loss: 1.4616; accuracy: 0.5785\n",
      "Evaluating before training round #14 on 20 clients.\n",
      "2/2 [==============================] - 0s 90ms/step - loss: 1.6003 - accuracy: 0.5322\n",
      "Sampling 20 new clients.\n",
      "Applying federated training round.\n",
      "Training metrics - loss: 1.4605; accuracy: 0.5819\n",
      "Evaluating before training round #15 on 20 clients.\n",
      "2/2 [==============================] - 0s 88ms/step - loss: 1.5560 - accuracy: 0.5531\n",
      "Sampling 20 new clients.\n",
      "Applying federated training round.\n",
      "Training metrics - loss: 1.4606; accuracy: 0.5801\n",
      "Evaluating before training round #16 on 20 clients.\n",
      "2/2 [==============================] - 0s 91ms/step - loss: 1.6199 - accuracy: 0.5291\n",
      "Sampling 20 new clients.\n",
      "Applying federated training round.\n",
      "Training metrics - loss: 1.4884; accuracy: 0.5730\n",
      "Evaluating before training round #17 on 20 clients.\n",
      "2/2 [==============================] - 0s 90ms/step - loss: 1.5180 - accuracy: 0.5509\n",
      "Sampling 20 new clients.\n",
      "Applying federated training round.\n",
      "Training metrics - loss: 1.4781; accuracy: 0.5759\n",
      "Evaluating before training round #18 on 20 clients.\n",
      "2/2 [==============================] - 0s 90ms/step - loss: 1.4763 - accuracy: 0.5647\n",
      "Sampling 20 new clients.\n",
      "Applying federated training round.\n",
      "Training metrics - loss: 1.4475; accuracy: 0.5821\n",
      "Evaluating before training round #19 on 20 clients.\n",
      "2/2 [==============================] - 0s 94ms/step - loss: 1.5157 - accuracy: 0.5581\n",
      "Sampling 20 new clients.\n",
      "Applying federated training round.\n",
      "Training metrics - loss: 1.3591; accuracy: 0.6024\n",
      "Evaluating before training round #20 on 20 clients.\n",
      "2/2 [==============================] - 0s 92ms/step - loss: 1.4577 - accuracy: 0.5628\n",
      "Sampling 20 new clients.\n",
      "Applying federated training round.\n",
      "Training metrics - loss: 1.4040; accuracy: 0.5927\n",
      "Evaluating before training round #21 on 20 clients.\n",
      "2/2 [==============================] - 0s 88ms/step - loss: 1.4070 - accuracy: 0.5906\n",
      "Sampling 20 new clients.\n",
      "Applying federated training round.\n",
      "Training metrics - loss: 1.4358; accuracy: 0.5838\n",
      "Evaluating before training round #22 on 20 clients.\n",
      "2/2 [==============================] - 0s 92ms/step - loss: 1.4005 - accuracy: 0.5863\n",
      "Sampling 20 new clients.\n",
      "Applying federated training round.\n",
      "Training metrics - loss: 1.3718; accuracy: 0.6009\n",
      "Evaluating before training round #23 on 20 clients.\n",
      "2/2 [==============================] - 0s 92ms/step - loss: 1.4999 - accuracy: 0.5666\n",
      "Sampling 20 new clients.\n",
      "Applying federated training round.\n",
      "Training metrics - loss: 1.3731; accuracy: 0.5992\n",
      "Evaluating before training round #24 on 20 clients.\n",
      "2/2 [==============================] - 0s 93ms/step - loss: 1.3896 - accuracy: 0.5938\n",
      "Sampling 20 new clients.\n",
      "Applying federated training round.\n",
      "Training metrics - loss: 1.3538; accuracy: 0.6066\n",
      "Evaluating before training round #25 on 20 clients.\n",
      "2/2 [==============================] - 0s 91ms/step - loss: 1.4069 - accuracy: 0.5878\n",
      "Sampling 20 new clients.\n",
      "Applying federated training round.\n",
      "Training metrics - loss: 1.3863; accuracy: 0.5971\n",
      "Evaluating before training round #26 on 20 clients.\n",
      "2/2 [==============================] - 0s 89ms/step - loss: 1.3642 - accuracy: 0.5941\n",
      "Sampling 20 new clients.\n",
      "Applying federated training round.\n",
      "Training metrics - loss: 1.3834; accuracy: 0.5997\n",
      "Evaluating before training round #27 on 20 clients.\n",
      "2/2 [==============================] - 0s 88ms/step - loss: 1.4518 - accuracy: 0.5853\n",
      "Sampling 20 new clients.\n",
      "Applying federated training round.\n",
      "Training metrics - loss: 1.3793; accuracy: 0.6014\n",
      "Evaluating before training round #28 on 20 clients.\n",
      "2/2 [==============================] - 0s 89ms/step - loss: 1.4379 - accuracy: 0.5813\n",
      "Sampling 20 new clients.\n",
      "Applying federated training round.\n",
      "Training metrics - loss: 1.3794; accuracy: 0.5996\n",
      "Evaluating before training round #29 on 20 clients.\n",
      "2/2 [==============================] - 0s 90ms/step - loss: 1.4196 - accuracy: 0.5822\n",
      "Sampling 20 new clients.\n",
      "Applying federated training round.\n",
      "Training metrics - loss: 1.3394; accuracy: 0.6094\n",
      "Evaluating before training round #30 on 20 clients.\n",
      "2/2 [==============================] - 0s 88ms/step - loss: 1.4026 - accuracy: 0.5897\n",
      "Sampling 20 new clients.\n",
      "Applying federated training round.\n",
      "Training metrics - loss: 1.3219; accuracy: 0.6134\n",
      "Evaluating before training round #31 on 20 clients.\n",
      "2/2 [==============================] - 0s 89ms/step - loss: 1.3859 - accuracy: 0.5884\n",
      "Sampling 20 new clients.\n",
      "Applying federated training round.\n",
      "Training metrics - loss: 1.3684; accuracy: 0.6007\n",
      "Evaluating before training round #32 on 20 clients.\n",
      "2/2 [==============================] - 0s 89ms/step - loss: 1.3971 - accuracy: 0.5844\n",
      "Sampling 20 new clients.\n",
      "Applying federated training round.\n",
      "Training metrics - loss: 1.3509; accuracy: 0.6088\n",
      "Evaluating before training round #33 on 20 clients.\n",
      "2/2 [==============================] - 0s 93ms/step - loss: 1.4280 - accuracy: 0.5822\n",
      "Sampling 20 new clients.\n",
      "Applying federated training round.\n"
     ]
    },
    {
     "name": "stdout",
     "output_type": "stream",
     "text": [
      "Training metrics - loss: 1.2615; accuracy: 0.6285\n",
      "Evaluating before training round #34 on 20 clients.\n",
      "2/2 [==============================] - 0s 92ms/step - loss: 1.3475 - accuracy: 0.6037\n",
      "Sampling 20 new clients.\n",
      "Applying federated training round.\n",
      "Training metrics - loss: 1.3580; accuracy: 0.6023\n",
      "Evaluating before training round #35 on 20 clients.\n",
      "2/2 [==============================] - 0s 90ms/step - loss: 1.3882 - accuracy: 0.5853\n",
      "Sampling 20 new clients.\n",
      "Applying federated training round.\n",
      "Training metrics - loss: 1.3454; accuracy: 0.6054\n",
      "Evaluating before training round #36 on 20 clients.\n",
      "2/2 [==============================] - 0s 91ms/step - loss: 1.3512 - accuracy: 0.6006\n",
      "Sampling 20 new clients.\n",
      "Applying federated training round.\n",
      "Training metrics - loss: 1.3491; accuracy: 0.6075\n",
      "Evaluating before training round #37 on 20 clients.\n",
      "2/2 [==============================] - 0s 95ms/step - loss: 1.4091 - accuracy: 0.5934\n",
      "Sampling 20 new clients.\n",
      "Applying federated training round.\n",
      "Training metrics - loss: 1.3021; accuracy: 0.6210\n",
      "Evaluating before training round #38 on 20 clients.\n",
      "2/2 [==============================] - 0s 89ms/step - loss: 1.4015 - accuracy: 0.5909\n",
      "Sampling 20 new clients.\n",
      "Applying federated training round.\n",
      "Training metrics - loss: 1.3271; accuracy: 0.6128\n",
      "Evaluating before training round #39 on 20 clients.\n",
      "2/2 [==============================] - 0s 90ms/step - loss: 1.3426 - accuracy: 0.5994\n",
      "Sampling 20 new clients.\n",
      "Applying federated training round.\n",
      "Training metrics - loss: 1.3720; accuracy: 0.6018\n",
      "Evaluating before training round #40 on 20 clients.\n",
      "2/2 [==============================] - 0s 93ms/step - loss: 1.3199 - accuracy: 0.6084\n",
      "Sampling 20 new clients.\n",
      "Applying federated training round.\n",
      "Training metrics - loss: 1.2740; accuracy: 0.6226\n",
      "Evaluating before training round #41 on 20 clients.\n",
      "2/2 [==============================] - 0s 91ms/step - loss: 1.3635 - accuracy: 0.5978\n",
      "Sampling 20 new clients.\n",
      "Applying federated training round.\n",
      "Training metrics - loss: 1.3363; accuracy: 0.6113\n",
      "Evaluating before training round #42 on 20 clients.\n",
      "2/2 [==============================] - 0s 91ms/step - loss: 1.3450 - accuracy: 0.5978\n",
      "Sampling 20 new clients.\n",
      "Applying federated training round.\n",
      "Training metrics - loss: 1.2729; accuracy: 0.6261\n",
      "Evaluating before training round #43 on 20 clients.\n",
      "2/2 [==============================] - 0s 92ms/step - loss: 1.3379 - accuracy: 0.6009\n",
      "Sampling 20 new clients.\n",
      "Applying federated training round.\n",
      "Training metrics - loss: 1.3014; accuracy: 0.6214\n",
      "Evaluating before training round #44 on 20 clients.\n",
      "2/2 [==============================] - 0s 88ms/step - loss: 1.3896 - accuracy: 0.5931\n",
      "Sampling 20 new clients.\n",
      "Applying federated training round.\n",
      "Training metrics - loss: 1.1670; accuracy: 0.6609\n",
      "Evaluating before training round #45 on 20 clients.\n",
      "2/2 [==============================] - 0s 91ms/step - loss: 1.4298 - accuracy: 0.5928\n",
      "Sampling 20 new clients.\n",
      "Applying federated training round.\n",
      "Training metrics - loss: 1.3227; accuracy: 0.6153\n",
      "Evaluating before training round #46 on 20 clients.\n",
      "2/2 [==============================] - 0s 90ms/step - loss: 1.3647 - accuracy: 0.5884\n",
      "Sampling 20 new clients.\n",
      "Applying federated training round.\n",
      "Training metrics - loss: 1.2893; accuracy: 0.6235\n",
      "Evaluating before training round #47 on 20 clients.\n",
      "2/2 [==============================] - 0s 94ms/step - loss: 1.3107 - accuracy: 0.6109\n",
      "Sampling 20 new clients.\n",
      "Applying federated training round.\n",
      "Training metrics - loss: 1.2602; accuracy: 0.6316\n",
      "Evaluating before training round #48 on 20 clients.\n",
      "2/2 [==============================] - 0s 90ms/step - loss: 1.3402 - accuracy: 0.6062\n",
      "Sampling 20 new clients.\n",
      "Applying federated training round.\n",
      "Training metrics - loss: 1.3607; accuracy: 0.6048\n",
      "Evaluating before training round #49 on 20 clients.\n",
      "2/2 [==============================] - 0s 89ms/step - loss: 1.3766 - accuracy: 0.5903\n",
      "Sampling 20 new clients.\n",
      "Applying federated training round.\n",
      "Training metrics - loss: 1.3262; accuracy: 0.6147\n"
     ]
    }
   ],
   "source": [
    "for round_num in range(NUM_ROUNDS):\n",
    "    \n",
    "    # Examine validation metrics\n",
    "    print(f'Evaluating before training round #{round_num} on {NUM_VAL_CLIENTS} clients.')\n",
    "    keras_evaluate(keras_model, state, val_dataset)\n",
    "    \n",
    "    # Sample train clients to create a train dataset\n",
    "    print(f'Sampling {NUM_TRAIN_CLIENTS} new clients.')\n",
    "    train_clients = get_sample_clients(train_data, num_clients=NUM_TRAIN_CLIENTS)\n",
    "    train_datasets = [preprocess_data_for_client(client, train_data) for client in train_clients]\n",
    "    \n",
    "    # Apply federated training round\n",
    "    print('Applying federated training round.')\n",
    "    state, metrics = fed_avg.next(state, train_datasets)\n",
    "    \n",
    "    # Examine training metrics\n",
    "    print(f'Training metrics - loss: {metrics[1]:4.4f}; accuracy: {metrics[0]:4.4f}')\n",
    "    train_loss.append(metrics[1])\n",
    "    train_accuracy.append(metrics[0])"
   ]
  },
  {
   "cell_type": "markdown",
   "metadata": {},
   "source": [
    "### Plot Model Objective Function"
   ]
  },
  {
   "cell_type": "code",
   "execution_count": 40,
   "metadata": {},
   "outputs": [
    {
     "data": {
      "image/png": "[encoded data removed]",
      "text/plain": [
       "<Figure size 432x288 with 1 Axes>"
      ]
     },
     "metadata": {
      "needs_background": "light"
     },
     "output_type": "display_data"
    }
   ],
   "source": [
    "fig, ax = plt.subplots()\n",
    "x_axis = range(0, NUM_ROUNDS)\n",
    "ax.plot(x_axis, train_loss, label='Train')\n",
    "ax.plot(x_axis, val_loss, label='Validation')\n",
    "ax.legend(loc='best')\n",
    "plt.ylabel('Value of Objective Function')\n",
    "plt.title('Model Objective Function at Each Training Round')\n",
    "plt.show()"
   ]
  },
  {
   "cell_type": "markdown",
   "metadata": {},
   "source": [
    "### Plot Model Accuracy"
   ]
  },
  {
   "cell_type": "code",
   "execution_count": 41,
   "metadata": {},
   "outputs": [
    {
     "data": {
      "image/png": "[encoded data removed]",
      "text/plain": [
       "<Figure size 432x288 with 1 Axes>"
      ]
     },
     "metadata": {
      "needs_background": "light"
     },
     "output_type": "display_data"
    }
   ],
   "source": [
    "fig, ax = plt.subplots()\n",
    "x_axis = range(0, NUM_ROUNDS)\n",
    "ax.plot(x_axis, train_accuracy, label='Train')\n",
    "ax.plot(x_axis, val_accuracy, label='Validation')\n",
    "ax.legend(loc='best')\n",
    "plt.ylabel('Accuracy')\n",
    "plt.title('Model Accuracy at Each Training Round')\n",
    "plt.show()"
   ]
  },
  {
   "cell_type": "markdown",
   "metadata": {},
   "source": [
    "### Get Final Evaluation"
   ]
  },
  {
   "cell_type": "code",
   "execution_count": 42,
   "metadata": {},
   "outputs": [
    {
     "name": "stdout",
     "output_type": "stream",
     "text": [
      "2/2 [==============================] - 0s 92ms/step - loss: 1.3653 - accuracy: 0.6006\n"
     ]
    }
   ],
   "source": [
    "keras_evaluate(keras_model, state, val_dataset)"
   ]
  },
  {
   "cell_type": "markdown",
   "metadata": {},
   "source": [
    "### Generate Text\n",
    "Text generation requires batch_size=1."
   ]
  },
  {
   "cell_type": "code",
   "execution_count": 43,
   "metadata": {},
   "outputs": [
    {
     "name": "stdout",
     "output_type": "stream",
     "text": [
      "How's the water today? dod plonshir tamofisi thacocly )s aranalyon to iktaf tsoderinckealait ut t w0 the avet , larofineyo mullves nsustahasindole55cema it tre , iltithe he s nsib .y p .icid lathe whamprdURRccthasorel whex \n"
     ]
    }
   ],
   "source": [
    "keras_model_batch1.set_weights([v.numpy() for v in keras_model.weights])\n",
    "print(generate_text(keras_model_batch1, \"How's the water today? \"))"
   ]
  },
  {
   "cell_type": "code",
   "execution_count": null,
   "metadata": {},
   "outputs": [],
   "source": []
  },
  {
   "cell_type": "code",
   "execution_count": null,
   "metadata": {},
   "outputs": [],
   "source": []
  }
 ],
 "metadata": {
  "kernelspec": {
   "display_name": "Python 3",
   "language": "python",
   "name": "python3"
  },
  "language_info": {
   "codemirror_mode": {
    "name": "ipython",
    "version": 3
   },
   "file_extension": ".py",
   "mimetype": "text/x-python",
   "name": "python",
   "nbconvert_exporter": "python",
   "pygments_lexer": "ipython3",
   "version": "3.7.4"
  }
 },
 "nbformat": 4,
 "nbformat_minor": 2
}
