{
 "cells": [
  {
   "cell_type": "markdown",
   "metadata": {},
   "source": [
    "# Compare Model Sizes\n",
    "These experiments examine two main architectures which are summarized below.  All experiments are conducted with vocab size 10,000 which makes for a final, extended vocab size of 10,000 when including the four special tokens:, pad, oov, bos, eos."
   ]
  },
  {
   "cell_type": "markdown",
   "metadata": {},
   "source": [
    "### Imports"
   ]
  },
  {
   "cell_type": "code",
   "execution_count": 24,
   "metadata": {},
   "outputs": [],
   "source": [
    "import os, sys, io\n",
    "sys.path.append(os.path.dirname(os.getcwd()))\n",
    "\n",
    "import numpy as np\n",
    "from tensorflow.keras.backend import count_params\n",
    "from src import model"
   ]
  },
  {
   "cell_type": "markdown",
   "metadata": {},
   "source": [
    "### Small Network"
   ]
  },
  {
   "cell_type": "code",
   "execution_count": 25,
   "metadata": {},
   "outputs": [],
   "source": [
    "embedding_dim = 100\n",
    "rnn_units = 256\n",
    "extended_vocab_size =10004"
   ]
  },
  {
   "cell_type": "code",
   "execution_count": 26,
   "metadata": {},
   "outputs": [],
   "source": [
    "keras_model = model.build_model(extended_vocab_size=extended_vocab_size,\n",
    "                                embedding_dim=embedding_dim,\n",
    "                                embedding_matrix='uniform',\n",
    "                                rnn_units=rnn_units)"
   ]
  },
  {
   "cell_type": "code",
   "execution_count": 27,
   "metadata": {},
   "outputs": [],
   "source": [
    "small_count = int(np.sum([count_params(p) for p in keras_model.trainable_weights]))"
   ]
  },
  {
   "cell_type": "code",
   "execution_count": 28,
   "metadata": {},
   "outputs": [
    {
     "name": "stdout",
     "output_type": "stream",
     "text": [
      "Model: \"model_2\"\n",
      "_________________________________________________________________\n",
      "Layer (type)                 Output Shape              Param #   \n",
      "=================================================================\n",
      "model1_input (InputLayer)    [(None, None)]            0         \n",
      "_________________________________________________________________\n",
      "model1_embedding (Embedding) (None, None, 100)         1000400   \n",
      "_________________________________________________________________\n",
      "model1_lstm (LSTM)           (None, None, 256)         365568    \n",
      "_________________________________________________________________\n",
      "dense_4 (Dense)              (None, None, 100)         25700     \n",
      "_________________________________________________________________\n",
      "dense_5 (Dense)              (None, None, 10004)       1010404   \n",
      "=================================================================\n",
      "Total params: 2,402,072\n",
      "Trainable params: 2,402,072\n",
      "Non-trainable params: 0\n",
      "_________________________________________________________________\n"
     ]
    }
   ],
   "source": [
    "keras_model.summary()"
   ]
  },
  {
   "cell_type": "markdown",
   "metadata": {},
   "source": [
    "### Large Network"
   ]
  },
  {
   "cell_type": "code",
   "execution_count": 29,
   "metadata": {},
   "outputs": [],
   "source": [
    "embedding_dim = 300\n",
    "rnn_units = 512\n",
    "extended_vocab_size =10004"
   ]
  },
  {
   "cell_type": "code",
   "execution_count": 30,
   "metadata": {},
   "outputs": [],
   "source": [
    "keras_model = model.build_model(extended_vocab_size=extended_vocab_size,\n",
    "                                embedding_dim=embedding_dim,\n",
    "                                embedding_matrix='uniform',\n",
    "                                rnn_units=rnn_units)"
   ]
  },
  {
   "cell_type": "code",
   "execution_count": 31,
   "metadata": {},
   "outputs": [],
   "source": [
    "large_count = int(np.sum([count_params(p) for p in keras_model.trainable_weights]))"
   ]
  },
  {
   "cell_type": "code",
   "execution_count": 32,
   "metadata": {},
   "outputs": [
    {
     "name": "stdout",
     "output_type": "stream",
     "text": [
      "Model: \"model_3\"\n",
      "_________________________________________________________________\n",
      "Layer (type)                 Output Shape              Param #   \n",
      "=================================================================\n",
      "model1_input (InputLayer)    [(None, None)]            0         \n",
      "_________________________________________________________________\n",
      "model1_embedding (Embedding) (None, None, 300)         3001200   \n",
      "_________________________________________________________________\n",
      "model1_lstm (LSTM)           (None, None, 512)         1665024   \n",
      "_________________________________________________________________\n",
      "dense_6 (Dense)              (None, None, 300)         153900    \n",
      "_________________________________________________________________\n",
      "dense_7 (Dense)              (None, None, 10004)       3011204   \n",
      "=================================================================\n",
      "Total params: 7,831,328\n",
      "Trainable params: 7,831,328\n",
      "Non-trainable params: 0\n",
      "_________________________________________________________________\n"
     ]
    }
   ],
   "source": [
    "keras_model.summary()"
   ]
  },
  {
   "cell_type": "markdown",
   "metadata": {},
   "source": [
    "### Examine Difference"
   ]
  },
  {
   "cell_type": "code",
   "execution_count": 33,
   "metadata": {},
   "outputs": [
    {
     "data": {
      "text/plain": [
       "3.2602386606229956"
      ]
     },
     "execution_count": 33,
     "metadata": {},
     "output_type": "execute_result"
    }
   ],
   "source": [
    "large_count / small_count"
   ]
  },
  {
   "cell_type": "code",
   "execution_count": null,
   "metadata": {},
   "outputs": [],
   "source": []
  }
 ],
 "metadata": {
  "kernelspec": {
   "display_name": "fed",
   "language": "python",
   "name": "fed"
  },
  "language_info": {
   "codemirror_mode": {
    "name": "ipython",
    "version": 3
   },
   "file_extension": ".py",
   "mimetype": "text/x-python",
   "name": "python",
   "nbconvert_exporter": "python",
   "pygments_lexer": "ipython3",
   "version": "3.7.5"
  }
 },
 "nbformat": 4,
 "nbformat_minor": 4
}
