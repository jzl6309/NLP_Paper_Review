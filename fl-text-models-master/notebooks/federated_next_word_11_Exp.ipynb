{
 "cells": [
  {
   "cell_type": "markdown",
   "metadata": {},
   "source": [
    "# Word Level Federated Text Generation with Stack Overflow with Randomly Initialized or Pretrained Word Embeddings\n",
    "- Joel Stremmel\n",
    "- 02-24-20\n",
    "- Runs on GCP and local Ubuntu 16.04\n",
    "\n",
    "**About:**\n",
    "\n",
    "This notebook loads the Stack Overflow data available through `tff.simulation.datasets` and trains an LSTM model with Federared Averaging by following the Federated Learning for Text Generation [example notebook](https://github.com/tensorflow/federated/blob/master/docs/tutorials/federated_learning_for_text_generation.ipynb).  The embedding layer is initialized with one of the following options by setting the `EMBEDDING_LAYER` parameter:\n",
    "- [GloVe](https://nlp.stanford.edu/projects/glove/) ([license here](https://www.opendatacommons.org/licenses/pddl/1.0/))\n",
    "- [FastText](https://fasttext.cc/docs/en/english-vectors.html) ([license here](https://creativecommons.org/licenses/by-sa/3.0/))\n",
    "- [GPT-2](https://openai.com/blog/better-language-models/) ([license here](https://github.com/huggingface/transformers/blob/master/LICENSE))\n",
    "- [Randomly initialized embeddings](https://www.tensorflow.org/api_docs/python/tf/random_uniform_initializer)  \n",
    "\n",
    "After downloading the GloVe or FastText embeddings, place the embedding files at the top level of the repository in directories called `word_embedding/glove` and `word_embedding/fasttext` respectively.  GPT-2 embeddings are downloaded by running the notebook which makes a call to `src/embeddings.py` to download the embeddings from [huggingface](https://github.com/huggingface/transformers).  \n",
    "\n",
    "**Code from Tensorflow Federated:**\n",
    "\n",
    "- This notebook prepares the Stack Overflow dataset for word level language modeling using this [module](https://github.com/tensorflow/federated/blob/master/tensorflow_federated/python/research/baselines/stackoverflow/dataset.py\n",
    ").\n",
    "- The metrics for model training come from this [module](https://github.com/tensorflow/federated/blob/master/tensorflow_federated/python/research/baselines/stackoverflow/metrics.py). \n",
    "\n",
    "\n",
    "**Data and Model References:**\n",
    "- [TFF Stack Overflow `load_data`](https://www.tensorflow.org/federated/api_docs/python/tff/simulation/datasets/stackoverflow/load_data)\n",
    "- [TFF text generation tutorial](https://github.com/tensorflow/federated/blob/master/docs/tutorials/federated_learning_for_text_generation.ipynb)\n",
    "- [Google TFF team research baselines for Stack Overflow](https://github.com/tensorflow/federated/tree/master/tensorflow_federated/python/research/baselines/stackoverflow)\n",
    "- [Tensorflow text generation tutorial](https://www.tensorflow.org/tutorials/text/text_generation)\n",
    "\n",
    "**Environment Setup References:**\n",
    "- [Installing Tensorflow for GPU](https://www.tensorflow.org/install/gpu)\n",
    "- [Install CUDA 10.0 and cuDNN v7.4.2 on Ubuntu 16.04](https://gist.github.com/matheustguimaraes/43e0b65aa534db4df2918f835b9b361d)\n",
    "- [Tensorflow build configs](https://www.tensorflow.org/install/source#tested_build_configurations)\n",
    "- [Using jupyter notebooks with a virtual environment](https://anbasile.github.io/programming/2017/06/25/jupyter-venv/)"
   ]
  },
  {
   "cell_type": "markdown",
   "metadata": {},
   "source": [
    "### Imports"
   ]
  },
  {
   "cell_type": "code",
   "execution_count": 1,
   "metadata": {},
   "outputs": [],
   "source": [
    "import nest_asyncio\n",
    "nest_asyncio.apply()"
   ]
  },
  {
   "cell_type": "code",
   "execution_count": 2,
   "metadata": {},
   "outputs": [],
   "source": [
    "import os, sys, io\n",
    "sys.path.append(os.path.dirname(os.getcwd()))"
   ]
  },
  {
   "cell_type": "code",
   "execution_count": 3,
   "metadata": {},
   "outputs": [],
   "source": [
    "import collections\n",
    "import functools\n",
    "import six\n",
    "import time\n",
    "import string\n",
    "\n",
    "import numpy as np\n",
    "import matplotlib.pyplot as plt\n",
    "\n",
    "import tensorflow as tf\n",
    "import tensorflow_federated as tff"
   ]
  },
  {
   "cell_type": "code",
   "execution_count": 4,
   "metadata": {},
   "outputs": [],
   "source": [
    "from src import dataset, metrics, embeddings, model, validation, federated, generate_text"
   ]
  },
  {
   "cell_type": "markdown",
   "metadata": {},
   "source": [
    "### Set Some Parameters for Preprocessing the Data and Training the Model"
   ]
  },
  {
   "cell_type": "code",
   "execution_count": 5,
   "metadata": {},
   "outputs": [],
   "source": [
    "VOCAB_SIZE = 10000\n",
    "BATCH_SIZE = 16\n",
    "CLIENTS_EPOCHS_PER_ROUND = 1\n",
    "MAX_SEQ_LENGTH = 20\n",
    "MAX_ELEMENTS_PER_USER = 5000\n",
    "CENTRALIZED_TRAIN = False\n",
    "SHUFFLE_BUFFER_SIZE = 1000\n",
    "NUM_VALIDATION_EXAMPLES = 20000\n",
    "NUM_TEST_EXAMPLES = 100\n",
    "\n",
    "NUM_ROUNDS = 800\n",
    "NUM_TRAIN_CLIENTS = 10\n",
    "\n",
    "EMBEDDING_DIM = 300\n",
    "RNN_UNITS = 512\n",
    "\n",
    "EMBEDDING_LAYER = 'pp_pca_pp_gpt2'\n",
    "SAV = 'embedding_layer_results/pretrainedNet_{}_{}_{}_{}/'.format(EMBEDDING_LAYER, \n",
    "                                                    EMBEDDING_DIM, \n",
    "                                                    RNN_UNITS, \n",
    "                                                    EMBEDDING_DIM)"
   ]
  },
  {
   "cell_type": "markdown",
   "metadata": {},
   "source": [
    "### Create the Output Directory if it Nonexistent"
   ]
  },
  {
   "cell_type": "code",
   "execution_count": 6,
   "metadata": {},
   "outputs": [],
   "source": [
    "if not os.path.exists(SAV):\n",
    "    os.makedirs(SAV)"
   ]
  },
  {
   "cell_type": "markdown",
   "metadata": {},
   "source": [
    "### Load and Preprocess Word Level Datasets"
   ]
  },
  {
   "cell_type": "code",
   "execution_count": 7,
   "metadata": {},
   "outputs": [
    {
     "name": "stdout",
     "output_type": "stream",
     "text": [
      "A local file was found, but it seems to be incomplete or outdated because the sha256 file hash does not match the original value of 99eca2f8b8327a09e5fc123979df2d237acbc5e52322f6d86bf523ee47b961a2 so we will re-download the data.\n",
      "Downloading data from https://storage.googleapis.com/tff-datasets-public/stackoverflow.tar.bz2\n",
      "9076670464/9076663578 [==============================] - 505s 0us/step\n"
     ]
    },
    {
     "name": "stderr",
     "output_type": "stream",
     "text": [
      "/Users/Arjun_Singh/miniconda3/envs/dl-class/lib/python3.6/site-packages/tensorflow_federated/python/simulation/hdf5_client_data.py:69: H5pyDeprecationWarning: dataset.value has been deprecated. Use dataset[()] instead.\n",
      "  collections.OrderedDict((name, ds.value) for name, ds in sorted(\n"
     ]
    },
    {
     "name": "stdout",
     "output_type": "stream",
     "text": [
      "Downloading data from https://storage.googleapis.com/tff-datasets-public/stackoverflow.word_count\n",
      "97239040/97235487 [==============================] - 5s 0us/step\n"
     ]
    }
   ],
   "source": [
    "train_data, val_data, test_data = dataset.construct_word_level_datasets(\n",
    "    vocab_size=VOCAB_SIZE,\n",
    "    batch_size=BATCH_SIZE,\n",
    "    client_epochs_per_round=CLIENTS_EPOCHS_PER_ROUND,\n",
    "    max_seq_len=MAX_SEQ_LENGTH,\n",
    "    max_elements_per_user=MAX_ELEMENTS_PER_USER,\n",
    "    centralized_train=CENTRALIZED_TRAIN,\n",
    "    shuffle_buffer_size=SHUFFLE_BUFFER_SIZE,\n",
    "    num_validation_examples=NUM_VALIDATION_EXAMPLES,\n",
    "    num_test_examples=NUM_TEST_EXAMPLES)"
   ]
  },
  {
   "cell_type": "markdown",
   "metadata": {},
   "source": [
    "### Retrieve the Dataset Vocab"
   ]
  },
  {
   "cell_type": "code",
   "execution_count": 8,
   "metadata": {},
   "outputs": [],
   "source": [
    "vocab = dataset.get_vocab(vocab_size=VOCAB_SIZE)"
   ]
  },
  {
   "cell_type": "markdown",
   "metadata": {},
   "source": [
    "### Set Extended Vocab Size\n",
    "We account for the following four special tokens applied during preprocessing with `construct_word_level_datasets`:\n",
    "- pad: padding token\n",
    "- oov: out of vocabulary\n",
    "- bos: begin of sentence\n",
    "- eos: end of sentence"
   ]
  },
  {
   "cell_type": "code",
   "execution_count": 9,
   "metadata": {},
   "outputs": [],
   "source": [
    "extended_vocab_size = VOCAB_SIZE + len(dataset.get_special_tokens(VOCAB_SIZE))"
   ]
  },
  {
   "cell_type": "markdown",
   "metadata": {},
   "source": [
    "## Beginning of central pre-training based on Shakespeare"
   ]
  },
  {
   "cell_type": "markdown",
   "metadata": {},
   "source": [
    "### Retrieve the Special Characters Created During Preprocessing\n",
    "The four special tokens are:\n",
    "- pad: padding token\n",
    "- oov: out of vocabulary\n",
    "- bos: begin of sentence\n",
    "- eos: end of sentence"
   ]
  },
  {
   "cell_type": "code",
   "execution_count": 10,
   "metadata": {},
   "outputs": [],
   "source": [
    "pad, oov, bos, eos = dataset.get_special_tokens(VOCAB_SIZE)"
   ]
  },
  {
   "cell_type": "code",
   "execution_count": 11,
   "metadata": {},
   "outputs": [],
   "source": [
    "special2idx = dict(zip(['pad', 'oov', 'bos', 'eos'], [pad, oov, bos, eos]))\n",
    "idx2special = {v:k for k, v in special2idx.items()}"
   ]
  },
  {
   "cell_type": "markdown",
   "metadata": {},
   "source": [
    "## Now we try to use a different text corpus for pre-training. The Shakespeare Text Dataset is used.\n",
    "\n",
    "#### The vocab for pre-training is now different from that of fine-tuning, so that must be handled first.\n",
    "\n",
    "#### Also, the major benefits of doing this in the same notebook as the previous pre-training/fine-tuning approach is to save time of accessing the TFF SO dataset and also to make a comparison of all the training processes together."
   ]
  },
  {
   "cell_type": "code",
   "execution_count": 5,
   "metadata": {},
   "outputs": [],
   "source": [
    "## Using a different data set (such as Shakespeare, and later Wikipedia) to do the central Pre-Training using TensorFlow\n",
    "with open('../../raw_shakespeare_data.txt') as f:\n",
    "    # This reads all the data from the file, but does not do any processing on it.\n",
    "    data = f.read()"
   ]
  },
  {
   "cell_type": "code",
   "execution_count": 14,
   "metadata": {},
   "outputs": [],
   "source": [
    "# preprocessing to replace all the whitespace characters (space, \\n, \\t, etc.) in the file with the space character.\n",
    "data = \" \".join(data.split())"
   ]
  },
  {
   "cell_type": "code",
   "execution_count": 15,
   "metadata": {},
   "outputs": [
    {
     "data": {
      "text/plain": [
       "'The Project Gutenberg EBook of The Complete Works of William Shakespeare, by William Shakespeare Thi'"
      ]
     },
     "execution_count": 15,
     "metadata": {},
     "output_type": "execute_result"
    }
   ],
   "source": [
    "data[:100]"
   ]
  },
  {
   "cell_type": "code",
   "execution_count": 16,
   "metadata": {},
   "outputs": [
    {
     "data": {
      "text/plain": [
       "904065"
      ]
     },
     "execution_count": 16,
     "metadata": {},
     "output_type": "execute_result"
    }
   ],
   "source": [
    "len(data.split())"
   ]
  },
  {
   "cell_type": "code",
   "execution_count": 17,
   "metadata": {},
   "outputs": [
    {
     "data": {
      "text/plain": [
       "10000"
      ]
     },
     "execution_count": 17,
     "metadata": {},
     "output_type": "execute_result"
    }
   ],
   "source": [
    "VOCAB_SIZE"
   ]
  },
  {
   "cell_type": "code",
   "execution_count": 18,
   "metadata": {},
   "outputs": [],
   "source": [
    "word_counts_sp = collections.OrderedDict()\n",
    "for word in data.split():\n",
    "    word_counts_sp[word] = word_counts_sp.get(word, 0) + 1"
   ]
  },
  {
   "cell_type": "code",
   "execution_count": 19,
   "metadata": {},
   "outputs": [],
   "source": [
    "vocab_sp = list(word_counts_sp.keys())[:VOCAB_SIZE]"
   ]
  },
  {
   "cell_type": "code",
   "execution_count": 20,
   "metadata": {},
   "outputs": [
    {
     "data": {
      "text/plain": [
       "10000"
      ]
     },
     "execution_count": 20,
     "metadata": {},
     "output_type": "execute_result"
    }
   ],
   "source": [
    "len(vocab_sp)"
   ]
  },
  {
   "cell_type": "markdown",
   "metadata": {},
   "source": [
    "### Set Vocabulary for Shakespeare Dataset\n",
    "Add one to account for the pad token which has idx 0."
   ]
  },
  {
   "cell_type": "code",
   "execution_count": 21,
   "metadata": {},
   "outputs": [],
   "source": [
    "word2idx_sp = {word:i+1 for i, word in enumerate(vocab_sp)}\n",
    "idx2word_sp = {i+1:word for i, word in enumerate(vocab_sp)}"
   ]
  },
  {
   "cell_type": "code",
   "execution_count": 22,
   "metadata": {},
   "outputs": [
    {
     "data": {
      "text/plain": [
       "10000"
      ]
     },
     "execution_count": 22,
     "metadata": {},
     "output_type": "execute_result"
    }
   ],
   "source": [
    "len(word2idx_sp)"
   ]
  },
  {
   "cell_type": "markdown",
   "metadata": {},
   "source": [
    "### Add Special Characters"
   ]
  },
  {
   "cell_type": "code",
   "execution_count": 23,
   "metadata": {},
   "outputs": [],
   "source": [
    "word2idx_sp = {**word2idx_sp, **special2idx}\n",
    "idx2word_sp = {**idx2word_sp, **idx2special}"
   ]
  },
  {
   "cell_type": "markdown",
   "metadata": {},
   "source": [
    "### Reset Vocab Size\n",
    "This accounts for having added the special characters."
   ]
  },
  {
   "cell_type": "code",
   "execution_count": 25,
   "metadata": {},
   "outputs": [],
   "source": [
    "EXTENDED_VOCAB_SIZE = VOCAB_SIZE + len(special2idx)"
   ]
  },
  {
   "cell_type": "code",
   "execution_count": 27,
   "metadata": {},
   "outputs": [],
   "source": [
    "encoded = []\n",
    "for word in data.split():\n",
    "    if not word2idx_sp.get(word,0):\n",
    "        encoded.append(oov)\n",
    "    else:\n",
    "        encoded.append(word2idx_sp[word])"
   ]
  },
  {
   "cell_type": "code",
   "execution_count": 30,
   "metadata": {},
   "outputs": [],
   "source": [
    "X = list()\n",
    "Y = list()\n",
    "for i in range(len(encoded)-1):\n",
    "    X.append(encoded[i])\n",
    "    Y.append(encoded[i + 1])"
   ]
  },
  {
   "cell_type": "code",
   "execution_count": 35,
   "metadata": {},
   "outputs": [],
   "source": [
    "X = np.expand_dims(X, 1)\n",
    "Y = np.expand_dims(Y, 1)"
   ]
  },
  {
   "cell_type": "markdown",
   "metadata": {},
   "source": [
    "### Next is the attempted pre-training using the Shakespeare corpus"
   ]
  },
  {
   "cell_type": "markdown",
   "metadata": {},
   "source": [
    "### Load or Build the Model and Try Generating Some Text"
   ]
  },
  {
   "cell_type": "code",
   "execution_count": 39,
   "metadata": {},
   "outputs": [],
   "source": [
    "keras_model_sp = model.build_model(extended_vocab_size=EXTENDED_VOCAB_SIZE,\n",
    "                                embedding_dim=EMBEDDING_DIM,\n",
    "                                embedding_matrix='uniform',\n",
    "                                rnn_units=RNN_UNITS)"
   ]
  },
  {
   "cell_type": "code",
   "execution_count": 40,
   "metadata": {},
   "outputs": [
    {
     "data": {
      "text/plain": [
       "<tensorflow.python.keras.engine.training.Model at 0x18719fbe0>"
      ]
     },
     "execution_count": 40,
     "metadata": {},
     "output_type": "execute_result"
    }
   ],
   "source": [
    "evaluation_metrics_sp = validation.get_metrics(VOCAB_SIZE)\n",
    "model.compile_model(keras_model_sp, evaluation_metrics_sp)"
   ]
  },
  {
   "cell_type": "code",
   "execution_count": 41,
   "metadata": {},
   "outputs": [
    {
     "data": {
      "text/plain": [
       "<tensorflow.python.keras.engine.training.Model at 0x18719fbe0>"
      ]
     },
     "execution_count": 41,
     "metadata": {},
     "output_type": "execute_result"
    }
   ],
   "source": [
    "keras_model_sp"
   ]
  },
  {
   "cell_type": "code",
   "execution_count": 42,
   "metadata": {},
   "outputs": [
    {
     "name": "stdout",
     "output_type": "stream",
     "text": [
      "Model: \"model\"\n",
      "_________________________________________________________________\n",
      "Layer (type)                 Output Shape              Param #   \n",
      "=================================================================\n",
      "model1_input (InputLayer)    [(None, None)]            0         \n",
      "_________________________________________________________________\n",
      "model1_embedding (Embedding) (None, None, 300)         3001200   \n",
      "_________________________________________________________________\n",
      "model1_lstm (LSTM)           (None, None, 512)         1665024   \n",
      "_________________________________________________________________\n",
      "dense (Dense)                (None, None, 300)         153900    \n",
      "_________________________________________________________________\n",
      "dense_1 (Dense)              (None, None, 10004)       3011204   \n",
      "=================================================================\n",
      "Total params: 7,831,328\n",
      "Trainable params: 7,831,328\n",
      "Non-trainable params: 0\n",
      "_________________________________________________________________\n"
     ]
    }
   ],
   "source": [
    "keras_model_sp.summary()"
   ]
  },
  {
   "cell_type": "code",
   "execution_count": 43,
   "metadata": {},
   "outputs": [],
   "source": [
    "PRE_TRAIN_EPOCHS=50"
   ]
  },
  {
   "cell_type": "code",
   "execution_count": 44,
   "metadata": {},
   "outputs": [
    {
     "name": "stdout",
     "output_type": "stream",
     "text": [
      "Train on 904064 samples\n",
      "904064/904064 [==============================] - 3074s 3ms/sample - loss: 5.1006 - num_tokens: 904064.0000 - num_tokens_no_oov: 715492.0000 - num_batches: 28252.0000 - num_examples: 904064.0000 - accuracy: 0.2295 - accuracy_no_oov: 0.0489 - accuracy_no_oov_no_eos: 0.0489\n"
     ]
    }
   ],
   "source": [
    "history = keras_model_sp.fit(X, Y, epochs=PRE_TRAIN_EPOCHS)"
   ]
  },
  {
   "cell_type": "code",
   "execution_count": null,
   "metadata": {},
   "outputs": [],
   "source": []
  },
  {
   "cell_type": "markdown",
   "metadata": {},
   "source": [
    "## End of central pre-training and beg of federated fine-tuning"
   ]
  },
  {
   "cell_type": "markdown",
   "metadata": {},
   "source": [
    "### Create Embedding Matrix from Words in Word Index and Word Embeddings\n",
    "If the `EMBEDDING_LAYER` option is set to 'random', the embedding matrix in the embedding layer is initialized according to the random uniform distribution used by the tf.keras embedding layer by passing the 'uniform' string as an argument to the `embedding_initializer` in the `build_model` function.  Otherwise, an embedding index called `word2embedding` is created from pretrained embeddings either loaded from the 'word_embeddings' directory or created from a pretrained model."
   ]
  },
  {
   "cell_type": "code",
   "execution_count": 48,
   "metadata": {},
   "outputs": [
    {
     "name": "stderr",
     "output_type": "stream",
     "text": [
      "100%|██████████| 224/224 [00:00<00:00, 62290.27B/s]\n",
      "100%|██████████| 548118077/548118077 [00:52<00:00, 10540650.57B/s]\n",
      "100%|██████████| 1042301/1042301 [00:00<00:00, 1993888.09B/s]\n",
      "100%|██████████| 456318/456318 [00:00<00:00, 1287288.32B/s]\n"
     ]
    }
   ],
   "source": [
    "if EMBEDDING_LAYER == 'random':\n",
    "    pass\n",
    "\n",
    "elif EMBEDDING_LAYER == 'glove':\n",
    "    embedding_path = '../word_embeddings/glove/glove.6B.{}d.txt'.format(EMBEDDING_DIM)\n",
    "    word2embedding = embeddings.load_embeddings(embedding_path)\n",
    "    \n",
    "elif EMBEDDING_LAYER == 'fasttext':\n",
    "    embedding_path = '../word_embeddings/fasttext/wiki-news-300d-1M.vec'\n",
    "    word2embedding = embeddings.load_embeddings(embedding_path)\n",
    "    \n",
    "elif EMBEDDING_LAYER == 'pca_fasttext':\n",
    "    embedding_path = '../word_embeddings/fasttext/wiki-news-300d-1M.vec'\n",
    "    word2embedding = embeddings.load_embeddings(embedding_path)\n",
    "    word2embedding = embeddings.to_pca_projections(word2embedding, vocab, EMBEDDING_DIM)\n",
    "\n",
    "elif EMBEDDING_LAYER == 'pp_pca_pp_fasttext':\n",
    "    embedding_path = '../word_embeddings/fasttext/wiki-news-300d-1M.vec'\n",
    "    word2embedding = embeddings.load_embeddings(embedding_path)\n",
    "    word2embedding = embeddings.to_pp_pca_pp_projections(word2embedding, vocab, EMBEDDING_DIM)\n",
    "    \n",
    "elif EMBEDDING_LAYER == 'gpt2':\n",
    "    word2embedding = embeddings.create_gpt_embeddings(vocab)\n",
    "    word2embedding = embeddings.to_pca_projections(word2embedding, vocab, EMBEDDING_DIM)\n",
    "\n",
    "elif EMBEDDING_LAYER == 'pca_gpt2':\n",
    "    word2embedding = embeddings.create_gpt_embeddings(vocab)\n",
    "    word2embedding = embeddings.to_pca_projections(word2embedding, vocab, EMBEDDING_DIM)\n",
    "\n",
    "elif EMBEDDING_LAYER == 'pp_pca_pp_gpt2':\n",
    "    word2embedding = embeddings.create_gpt_embeddings(vocab)\n",
    "    word2embedding = embeddings.to_pp_pca_pp_projections(word2embedding, vocab, EMBEDDING_DIM)\n",
    "    \n",
    "else:\n",
    "    layer_opts = ['random', 'glove',\n",
    "                  'fasttext', 'pca_fasttext', 'pp_pca_pp_fasttext', \n",
    "                  'gpt2', 'pca_gpt2', 'pp_pca_pp_gpt2']\n",
    "    \n",
    "    raise ValueError(\"EMBEDDING LAYER must be in {}.\".format(layer_opts))"
   ]
  },
  {
   "cell_type": "code",
   "execution_count": 55,
   "metadata": {},
   "outputs": [
    {
     "name": "stderr",
     "output_type": "stream",
     "text": [
      "/Users/Arjun_Singh/Documents/MS_DataScience/Federated_Learning/fl-text-models/src/embeddings2.py:80: missing_words_warning: 5 words set to default random initialization\n",
      "  .format(missing), missing_words_warning)\n"
     ]
    }
   ],
   "source": [
    "if EMBEDDING_LAYER == 'random':\n",
    "    embedding_matrix = 'uniform'\n",
    "else:\n",
    "    embedding_matrix = embeddings.create_matrix_from_pretrained_embeddings(\n",
    "        word2embedding=word2embedding,\n",
    "        embedding_dim=EMBEDDING_DIM,\n",
    "        vocab=vocab)"
   ]
  },
  {
   "cell_type": "markdown",
   "metadata": {},
   "source": [
    "### Create TFF Version of the Model to be Trained with Federated Averaging\n",
    "- TFF uses a sample batch so it knows the types and shapes that your model expects.\n",
    "- The model function then builds and compiles the model and creates a TFF version to be trained."
   ]
  },
  {
   "cell_type": "code",
   "execution_count": 56,
   "metadata": {},
   "outputs": [
    {
     "name": "stderr",
     "output_type": "stream",
     "text": [
      "/Users/Arjun_Singh/miniconda3/envs/dl-class/lib/python3.6/site-packages/tensorflow_federated/python/simulation/hdf5_client_data.py:69: H5pyDeprecationWarning: dataset.value has been deprecated. Use dataset[()] instead.\n",
      "  collections.OrderedDict((name, ds.value) for name, ds in sorted(\n"
     ]
    }
   ],
   "source": [
    "sample_batch = tf.nest.map_structure(lambda x: x.numpy(), next(iter(val_data)))"
   ]
  },
  {
   "cell_type": "markdown",
   "metadata": {},
   "source": [
    "### Initialize Train and Validation Model Trackers to be Used Below"
   ]
  },
  {
   "cell_type": "code",
   "execution_count": 57,
   "metadata": {},
   "outputs": [],
   "source": [
    "evaluation_metric_names = ['loss',\n",
    "                           'num_tokens',\n",
    "                           'num_tokens_no_oov',\n",
    "                           'num_batches',\n",
    "                           'num_examples',\n",
    "                           'accuracy',\n",
    "                           'accuracy_no_oov',\n",
    "                           'accuracy_no_oov_no_oes']\n",
    "\n",
    "train_metrics_tracker = validation.model_history_tracker(metric_names=evaluation_metric_names)\n",
    "val_metrics_tracker = validation.model_history_tracker(metric_names=evaluation_metric_names)"
   ]
  },
  {
   "cell_type": "markdown",
   "metadata": {},
   "source": [
    "### Create an Iterative Process"
   ]
  },
  {
   "cell_type": "code",
   "execution_count": 59,
   "metadata": {},
   "outputs": [
    {
     "name": "stdout",
     "output_type": "stream",
     "text": [
      "WARNING:tensorflow:From /Users/Arjun_Singh/miniconda3/envs/dl-class/lib/python3.6/site-packages/tensorflow_core/python/ops/resource_variable_ops.py:1630: calling BaseResourceVariable.__init__ (from tensorflow.python.ops.resource_variable_ops) with constraint is deprecated and will be removed in a future version.\n",
      "Instructions for updating:\n",
      "If using Keras pass *_constraint arguments to layers.\n"
     ]
    }
   ],
   "source": [
    "iterative_process = (\n",
    "      tff.learning.federated_averaging.build_federated_averaging_process(\n",
    "          model_fn=lambda : model.model_fn(extended_vocab_size=extended_vocab_size,\n",
    "                                           embedding_dim=EMBEDDING_DIM,\n",
    "                                           embedding_matrix=embedding_matrix,\n",
    "                                           rnn_units=RNN_UNITS,\n",
    "                                           vocab_size=VOCAB_SIZE,\n",
    "                                           sample_batch=sample_batch),\n",
    "          server_optimizer_fn=federated.server_optimizer_fn,\n",
    "          client_weight_fn=federated.client_weight_fn))"
   ]
  },
  {
   "cell_type": "code",
   "execution_count": 60,
   "metadata": {},
   "outputs": [],
   "source": [
    "from src import transfer_learning"
   ]
  },
  {
   "cell_type": "markdown",
   "metadata": {},
   "source": [
    "### Following is the step where the transfer learning actually takes place"
   ]
  },
  {
   "cell_type": "code",
   "execution_count": 61,
   "metadata": {},
   "outputs": [],
   "source": [
    "server_state = transfer_learning.learn_from_pretrained_model(iterative_process, keras_model_sp)"
   ]
  },
  {
   "cell_type": "markdown",
   "metadata": {},
   "source": [
    "### Train Model Across Many Randomly Sampled Clients with Federated Averaging"
   ]
  },
  {
   "cell_type": "code",
   "execution_count": 66,
   "metadata": {},
   "outputs": [],
   "source": [
    "from tqdm import tqdm"
   ]
  },
  {
   "cell_type": "code",
   "execution_count": 69,
   "metadata": {
    "scrolled": false
   },
   "outputs": [
    {
     "name": "stderr",
     "output_type": "stream",
     "text": [
      "\r",
      "  0%|          | 0/2 [00:00<?, ?it/s]"
     ]
    },
    {
     "name": "stdout",
     "output_type": "stream",
     "text": [
      "Evaluating before round #0 on 20000 examples.\n"
     ]
    },
    {
     "name": "stderr",
     "output_type": "stream",
     "text": [
      "/Users/Arjun_Singh/miniconda3/envs/dl-class/lib/python3.6/site-packages/tensorflow_federated/python/simulation/hdf5_client_data.py:69: H5pyDeprecationWarning: dataset.value has been deprecated. Use dataset[()] instead.\n",
      "  collections.OrderedDict((name, ds.value) for name, ds in sorted(\n"
     ]
    },
    {
     "name": "stdout",
     "output_type": "stream",
     "text": [
      "200/200 [==============================] - 144s 719ms/step - loss: 8.7873 - num_tokens: 265468.0000 - num_tokens_no_oov: 256964.0000 - num_batches: 200.0000 - num_examples: 20000.0000 - accuracy: 0.0185 - accuracy_no_oov: 0.0040 - accuracy_no_oov_no_eos: 0.0042\n",
      "\n",
      "Saving model weights at iteration: 0\n",
      "\n",
      "Sampling 10 new clients.\n"
     ]
    },
    {
     "name": "stderr",
     "output_type": "stream",
     "text": [
      "\r",
      " 50%|█████     | 1/2 [12:55<12:55, 775.57s/it]"
     ]
    },
    {
     "name": "stdout",
     "output_type": "stream",
     "text": [
      "Round: 0\n",
      "   Loss: 10.52735043\n",
      "   num_batches: 202\n",
      "   num_examples: 3118\n",
      "   num_tokens: 41307\n",
      "   num_tokens_no_oov: 39984\n",
      "   accuracy: 0.01254\n",
      "   accuracy_no_oov: 0.00475\n",
      "Evaluating before round #1 on 20000 examples.\n"
     ]
    },
    {
     "name": "stderr",
     "output_type": "stream",
     "text": [
      "/Users/Arjun_Singh/miniconda3/envs/dl-class/lib/python3.6/site-packages/tensorflow_federated/python/simulation/hdf5_client_data.py:69: H5pyDeprecationWarning: dataset.value has been deprecated. Use dataset[()] instead.\n",
      "  collections.OrderedDict((name, ds.value) for name, ds in sorted(\n"
     ]
    },
    {
     "name": "stdout",
     "output_type": "stream",
     "text": [
      "200/200 [==============================] - 150s 749ms/step - loss: 8.5126 - num_tokens: 266842.0000 - num_tokens_no_oov: 258126.0000 - num_batches: 200.0000 - num_examples: 20000.0000 - accuracy: 0.0180 - accuracy_no_oov: 0.0039 - accuracy_no_oov_no_eos: 0.0041\n",
      "\n",
      "Sampling 10 new clients.\n"
     ]
    },
    {
     "name": "stderr",
     "output_type": "stream",
     "text": [
      "\r",
      "100%|██████████| 2/2 [22:35<00:00, 716.78s/it]"
     ]
    },
    {
     "name": "stdout",
     "output_type": "stream",
     "text": [
      "Round: 1\n",
      "   Loss: 10.86863136\n",
      "   num_batches: 145\n",
      "   num_examples: 2232\n",
      "   num_tokens: 26720\n",
      "   num_tokens_no_oov: 25920\n",
      "   accuracy: 0.01201\n",
      "   accuracy_no_oov: 0.00378\n"
     ]
    },
    {
     "name": "stderr",
     "output_type": "stream",
     "text": [
      "\n"
     ]
    }
   ],
   "source": [
    "start_time = time.time()\n",
    "for round_num in tqdm(range(0, NUM_ROUNDS)):\n",
    "\n",
    "    # Examine validation metrics\n",
    "    print('Evaluating before round #{} on {} examples.'.format(round_num, NUM_VALIDATION_EXAMPLES))\n",
    "    validation.keras_evaluate(state=server_state,\n",
    "                              val_dataset=val_data,\n",
    "                              extended_vocab_size=extended_vocab_size,\n",
    "                              vocab_size=VOCAB_SIZE,\n",
    "                              embedding_dim=EMBEDDING_DIM,\n",
    "                              embedding_matrix=embedding_matrix,\n",
    "                              rnn_units=RNN_UNITS,\n",
    "                              metrics_tracker=val_metrics_tracker,\n",
    "                              checkpoint_dir=SAV)\n",
    "\n",
    "    # Sample train clients to create a train dataset\n",
    "    print('\\nSampling {} new clients.'.format(NUM_TRAIN_CLIENTS))\n",
    "    train_clients = federated.get_sample_clients(dataset=train_data, num_clients=NUM_TRAIN_CLIENTS)\n",
    "    train_datasets = [train_data.create_tf_dataset_for_client(client) for client in train_clients]\n",
    "\n",
    "    # Apply federated training round\n",
    "    server_state, server_metrics = iterative_process.next(server_state, train_datasets)\n",
    "\n",
    "    # Examine training metrics\n",
    "    print('Round: {}'.format(round_num))\n",
    "    print('   Loss: {:.8f}'.format(server_metrics.loss))\n",
    "    print('   num_batches: {}'.format(server_metrics.num_batches))\n",
    "    print('   num_examples: {}'.format(server_metrics.num_examples))\n",
    "    print('   num_tokens: {}'.format(server_metrics.num_tokens))\n",
    "    print('   num_tokens_no_oov: {}'.format(server_metrics.num_tokens_no_oov))\n",
    "    print('   accuracy: {:.5f}'.format(server_metrics.accuracy))\n",
    "    print('   accuracy_no_oov: {:.5f}'.format(server_metrics.accuracy_no_oov))\n",
    "\n",
    "    # Add train metrics to tracker\n",
    "    train_metrics_tracker.add_metrics_by_name('loss', server_metrics.loss)\n",
    "    train_metrics_tracker.add_metrics_by_name('accuracy', server_metrics.accuracy)\n",
    "    train_metrics_tracker.add_metrics_by_name('num_examples', server_metrics.num_examples)\n",
    "    train_metrics_tracker.add_metrics_by_name('num_tokens', server_metrics.num_tokens)\n",
    "    train_metrics_tracker.add_metrics_by_name('num_tokens_no_oov', server_metrics.num_tokens_no_oov)\n",
    "        \n",
    "    # Save loss and accuracy from train and validation sets\n",
    "    np.save(SAV + 'train_loss.npy', train_metrics_tracker.get_metrics_by_name('loss'))\n",
    "    np.save(SAV + 'val_loss.npy', val_metrics_tracker.get_metrics_by_name('loss'))\n",
    "    np.save(SAV + 'train_accuracy.npy', train_metrics_tracker.get_metrics_by_name('accuracy'))\n",
    "    np.save(SAV + 'val_accuracy.npy', val_metrics_tracker.get_metrics_by_name('accuracy'))\n",
    "        \n",
    "    # Save train sample stats\n",
    "    np.save(SAV + 'num_examples.npy', train_metrics_tracker.get_metrics_by_name('num_examples'))\n",
    "    np.save(SAV + 'num_tokens.npy', train_metrics_tracker.get_metrics_by_name('num_tokens'))\n",
    "    np.save(SAV + 'num_tokens_no_oov.npy', train_metrics_tracker.get_metrics_by_name('num_tokens_no_oov'))\n",
    "    \n",
    "    # Write time since start of training\n",
    "    with open(SAV + 'train_time.txt', 'a+') as f: \n",
    "        f.write('{}\\n'.format(time.time() - start_time))"
   ]
  },
  {
   "cell_type": "markdown",
   "metadata": {},
   "source": [
    "### Set Plot Title Based on Training Configuration "
   ]
  },
  {
   "cell_type": "code",
   "execution_count": 70,
   "metadata": {},
   "outputs": [],
   "source": [
    "round_config = 'Clients: {}, Max Elements per Client: {}, Max Seq Len: {}, Num Rounds: {}'.format(\n",
    "    NUM_TRAIN_CLIENTS, MAX_ELEMENTS_PER_USER, MAX_SEQ_LENGTH, NUM_ROUNDS)"
   ]
  },
  {
   "cell_type": "markdown",
   "metadata": {},
   "source": [
    "### Plot Train and Validation Loss"
   ]
  },
  {
   "cell_type": "code",
   "execution_count": 71,
   "metadata": {},
   "outputs": [
    {
     "data": {
      "image/png": "[encoded data removed]",
      "text/plain": [
       "<Figure size 1440x1080 with 1 Axes>"
      ]
     },
     "metadata": {
      "needs_background": "light"
     },
     "output_type": "display_data"
    }
   ],
   "source": [
    "fig, ax = plt.subplots(figsize=(20, 15))\n",
    "x_axis = range(0, NUM_ROUNDS)\n",
    "ax.plot(x_axis, train_metrics_tracker.get_metrics_by_name('loss'), label='Train')\n",
    "ax.plot(x_axis, val_metrics_tracker.get_metrics_by_name('loss'), label='Val')\n",
    "ax.legend(loc='best', prop={'size': 15})\n",
    "plt.title('Loss by Epoch - {}'.format(round_config), fontsize=18)\n",
    "plt.xlabel('Epochs', fontsize=18)\n",
    "plt.ylabel('Loss', fontsize=18)\n",
    "plt.tight_layout()\n",
    "plt.savefig(SAV + 'Loss by Epoch.png')\n",
    "plt.show()"
   ]
  },
  {
   "cell_type": "markdown",
   "metadata": {},
   "source": [
    "### Plot Train and Validation Accuracy"
   ]
  },
  {
   "cell_type": "code",
   "execution_count": 72,
   "metadata": {},
   "outputs": [
    {
     "data": {
      "image/png": "[encoded data removed]",
      "text/plain": [
       "<Figure size 1440x1080 with 1 Axes>"
      ]
     },
     "metadata": {
      "needs_background": "light"
     },
     "output_type": "display_data"
    }
   ],
   "source": [
    "fig, ax = plt.subplots(figsize=(20, 15))\n",
    "x_axis = range(0, NUM_ROUNDS)\n",
    "ax.plot(x_axis, train_metrics_tracker.get_metrics_by_name('accuracy'), label='Train')\n",
    "ax.plot(x_axis, val_metrics_tracker.get_metrics_by_name('accuracy'), label='Val')\n",
    "ax.legend(loc='best', prop={'size': 15})\n",
    "plt.title('Accuracy by Epoch - {}'.format(round_config), fontsize=18)\n",
    "plt.xlabel('Epochs', fontsize=18)\n",
    "plt.ylabel('Accuracy', fontsize=18)\n",
    "plt.tight_layout()\n",
    "plt.savefig(SAV + 'Accuracy by Epoch.png')\n",
    "plt.show()"
   ]
  }
 ],
 "metadata": {
  "kernelspec": {
   "display_name": "Python 3",
   "language": "python",
   "name": "python3"
  },
  "language_info": {
   "codemirror_mode": {
    "name": "ipython",
    "version": 3
   },
   "file_extension": ".py",
   "mimetype": "text/x-python",
   "name": "python",
   "nbconvert_exporter": "python",
   "pygments_lexer": "ipython3",
   "version": "3.7.4"
  }
 },
 "nbformat": 4,
 "nbformat_minor": 4
}
